{
 "cells": [
  {
   "cell_type": "markdown",
   "metadata": {
    "colab_type": "text",
    "id": "GzfdMfk10NE6"
   },
   "source": [
    "# **DATA SCIENCE AND BUSINESS ANALYTICS INTERN at SPARKS FOUNDATION** #GRIPJAN21\n",
    "### Author: Harshpreet Kaur\n",
    "\n",
    "\n",
    "##  TASK 8: Timeline Analysis : Covid-19\n",
    "\n",
    "### Identify interesting patterns and possible reasons helping Covid-19 spread with basic as well as advanced charts"
   ]
  },
  {
   "cell_type": "markdown",
   "metadata": {},
   "source": [
    "### Importing the Header Files "
   ]
  },
  {
   "cell_type": "code",
   "execution_count": 1,
   "metadata": {
    "colab": {},
    "colab_type": "code",
    "id": "V9QN2ZxC38pB"
   },
   "outputs": [],
   "source": [
    "import pandas as pd\n",
    "import numpy as np  \n",
    "import matplotlib.pyplot as plt  \n",
    "%matplotlib inline\n",
    "import seaborn as sns\n",
    "import plotly.express as p\n",
    "import warnings\n",
    "warnings.filterwarnings(\"ignore\")"
   ]
  },
  {
   "cell_type": "markdown",
   "metadata": {},
   "source": [
    "### Get the data"
   ]
  },
  {
   "cell_type": "code",
   "execution_count": 2,
   "metadata": {
    "colab": {
     "base_uri": "https://localhost:8080/",
     "height": 376
    },
    "colab_type": "code",
    "executionInfo": {
     "elapsed": 2534,
     "status": "ok",
     "timestamp": 1544113345787,
     "user": {
      "displayName": "A M Aditya",
      "photoUrl": "https://lh3.googleusercontent.com/-WI8p7JNWLic/AAAAAAAAAAI/AAAAAAAAAfs/vS8ElgH0p0c/s64/photo.jpg",
      "userId": "15341571102300750919"
     },
     "user_tz": -480
    },
    "id": "LtU4YMEhqm9m",
    "outputId": "5b4b36af-1545-497e-a6dc-7658bab71dbc"
   },
   "outputs": [
    {
     "name": "stdout",
     "output_type": "stream",
     "text": [
      "Data imported successfully\n"
     ]
    }
   ],
   "source": [
    "dataset = pd.read_csv(\"C:\\\\Users\\\\harsh\\\\OneDrive\\\\Desktop\\\\Sparks Foundation\\\\Datasets\\\\covid.csv\")\n",
    "print(\"Data imported successfully\")"
   ]
  },
  {
   "cell_type": "markdown",
   "metadata": {},
   "source": [
    "### Data Preprocessing "
   ]
  },
  {
   "cell_type": "code",
   "execution_count": 3,
   "metadata": {},
   "outputs": [
    {
     "data": {
      "text/html": [
       "<div>\n",
       "<style scoped>\n",
       "    .dataframe tbody tr th:only-of-type {\n",
       "        vertical-align: middle;\n",
       "    }\n",
       "\n",
       "    .dataframe tbody tr th {\n",
       "        vertical-align: top;\n",
       "    }\n",
       "\n",
       "    .dataframe thead th {\n",
       "        text-align: right;\n",
       "    }\n",
       "</style>\n",
       "<table border=\"1\" class=\"dataframe\">\n",
       "  <thead>\n",
       "    <tr style=\"text-align: right;\">\n",
       "      <th></th>\n",
       "      <th>iso_code</th>\n",
       "      <th>continent</th>\n",
       "      <th>location</th>\n",
       "      <th>date</th>\n",
       "      <th>total_cases</th>\n",
       "      <th>new_cases</th>\n",
       "      <th>new_cases_smoothed</th>\n",
       "      <th>total_deaths</th>\n",
       "      <th>new_deaths</th>\n",
       "      <th>new_deaths_smoothed</th>\n",
       "      <th>...</th>\n",
       "      <th>gdp_per_capita</th>\n",
       "      <th>extreme_poverty</th>\n",
       "      <th>cardiovasc_death_rate</th>\n",
       "      <th>diabetes_prevalence</th>\n",
       "      <th>female_smokers</th>\n",
       "      <th>male_smokers</th>\n",
       "      <th>handwashing_facilities</th>\n",
       "      <th>hospital_beds_per_thousand</th>\n",
       "      <th>life_expectancy</th>\n",
       "      <th>human_development_index</th>\n",
       "    </tr>\n",
       "  </thead>\n",
       "  <tbody>\n",
       "    <tr>\n",
       "      <th>0</th>\n",
       "      <td>AFG</td>\n",
       "      <td>Asia</td>\n",
       "      <td>Afghanistan</td>\n",
       "      <td>2020-02-24</td>\n",
       "      <td>1.0</td>\n",
       "      <td>1.0</td>\n",
       "      <td>NaN</td>\n",
       "      <td>NaN</td>\n",
       "      <td>NaN</td>\n",
       "      <td>NaN</td>\n",
       "      <td>...</td>\n",
       "      <td>1803.987</td>\n",
       "      <td>NaN</td>\n",
       "      <td>597.029</td>\n",
       "      <td>9.59</td>\n",
       "      <td>NaN</td>\n",
       "      <td>NaN</td>\n",
       "      <td>37.746</td>\n",
       "      <td>0.5</td>\n",
       "      <td>64.83</td>\n",
       "      <td>0.498</td>\n",
       "    </tr>\n",
       "    <tr>\n",
       "      <th>1</th>\n",
       "      <td>AFG</td>\n",
       "      <td>Asia</td>\n",
       "      <td>Afghanistan</td>\n",
       "      <td>2020-02-25</td>\n",
       "      <td>1.0</td>\n",
       "      <td>0.0</td>\n",
       "      <td>NaN</td>\n",
       "      <td>NaN</td>\n",
       "      <td>NaN</td>\n",
       "      <td>NaN</td>\n",
       "      <td>...</td>\n",
       "      <td>1803.987</td>\n",
       "      <td>NaN</td>\n",
       "      <td>597.029</td>\n",
       "      <td>9.59</td>\n",
       "      <td>NaN</td>\n",
       "      <td>NaN</td>\n",
       "      <td>37.746</td>\n",
       "      <td>0.5</td>\n",
       "      <td>64.83</td>\n",
       "      <td>0.498</td>\n",
       "    </tr>\n",
       "    <tr>\n",
       "      <th>2</th>\n",
       "      <td>AFG</td>\n",
       "      <td>Asia</td>\n",
       "      <td>Afghanistan</td>\n",
       "      <td>2020-02-26</td>\n",
       "      <td>1.0</td>\n",
       "      <td>0.0</td>\n",
       "      <td>NaN</td>\n",
       "      <td>NaN</td>\n",
       "      <td>NaN</td>\n",
       "      <td>NaN</td>\n",
       "      <td>...</td>\n",
       "      <td>1803.987</td>\n",
       "      <td>NaN</td>\n",
       "      <td>597.029</td>\n",
       "      <td>9.59</td>\n",
       "      <td>NaN</td>\n",
       "      <td>NaN</td>\n",
       "      <td>37.746</td>\n",
       "      <td>0.5</td>\n",
       "      <td>64.83</td>\n",
       "      <td>0.498</td>\n",
       "    </tr>\n",
       "    <tr>\n",
       "      <th>3</th>\n",
       "      <td>AFG</td>\n",
       "      <td>Asia</td>\n",
       "      <td>Afghanistan</td>\n",
       "      <td>2020-02-27</td>\n",
       "      <td>1.0</td>\n",
       "      <td>0.0</td>\n",
       "      <td>NaN</td>\n",
       "      <td>NaN</td>\n",
       "      <td>NaN</td>\n",
       "      <td>NaN</td>\n",
       "      <td>...</td>\n",
       "      <td>1803.987</td>\n",
       "      <td>NaN</td>\n",
       "      <td>597.029</td>\n",
       "      <td>9.59</td>\n",
       "      <td>NaN</td>\n",
       "      <td>NaN</td>\n",
       "      <td>37.746</td>\n",
       "      <td>0.5</td>\n",
       "      <td>64.83</td>\n",
       "      <td>0.498</td>\n",
       "    </tr>\n",
       "    <tr>\n",
       "      <th>4</th>\n",
       "      <td>AFG</td>\n",
       "      <td>Asia</td>\n",
       "      <td>Afghanistan</td>\n",
       "      <td>2020-02-28</td>\n",
       "      <td>1.0</td>\n",
       "      <td>0.0</td>\n",
       "      <td>NaN</td>\n",
       "      <td>NaN</td>\n",
       "      <td>NaN</td>\n",
       "      <td>NaN</td>\n",
       "      <td>...</td>\n",
       "      <td>1803.987</td>\n",
       "      <td>NaN</td>\n",
       "      <td>597.029</td>\n",
       "      <td>9.59</td>\n",
       "      <td>NaN</td>\n",
       "      <td>NaN</td>\n",
       "      <td>37.746</td>\n",
       "      <td>0.5</td>\n",
       "      <td>64.83</td>\n",
       "      <td>0.498</td>\n",
       "    </tr>\n",
       "  </tbody>\n",
       "</table>\n",
       "<p>5 rows × 55 columns</p>\n",
       "</div>"
      ],
      "text/plain": [
       "  iso_code continent     location        date  total_cases  new_cases  \\\n",
       "0      AFG      Asia  Afghanistan  2020-02-24          1.0        1.0   \n",
       "1      AFG      Asia  Afghanistan  2020-02-25          1.0        0.0   \n",
       "2      AFG      Asia  Afghanistan  2020-02-26          1.0        0.0   \n",
       "3      AFG      Asia  Afghanistan  2020-02-27          1.0        0.0   \n",
       "4      AFG      Asia  Afghanistan  2020-02-28          1.0        0.0   \n",
       "\n",
       "   new_cases_smoothed  total_deaths  new_deaths  new_deaths_smoothed  ...  \\\n",
       "0                 NaN           NaN         NaN                  NaN  ...   \n",
       "1                 NaN           NaN         NaN                  NaN  ...   \n",
       "2                 NaN           NaN         NaN                  NaN  ...   \n",
       "3                 NaN           NaN         NaN                  NaN  ...   \n",
       "4                 NaN           NaN         NaN                  NaN  ...   \n",
       "\n",
       "   gdp_per_capita  extreme_poverty  cardiovasc_death_rate  \\\n",
       "0        1803.987              NaN                597.029   \n",
       "1        1803.987              NaN                597.029   \n",
       "2        1803.987              NaN                597.029   \n",
       "3        1803.987              NaN                597.029   \n",
       "4        1803.987              NaN                597.029   \n",
       "\n",
       "   diabetes_prevalence  female_smokers  male_smokers  handwashing_facilities  \\\n",
       "0                 9.59             NaN           NaN                  37.746   \n",
       "1                 9.59             NaN           NaN                  37.746   \n",
       "2                 9.59             NaN           NaN                  37.746   \n",
       "3                 9.59             NaN           NaN                  37.746   \n",
       "4                 9.59             NaN           NaN                  37.746   \n",
       "\n",
       "   hospital_beds_per_thousand  life_expectancy  human_development_index  \n",
       "0                         0.5            64.83                    0.498  \n",
       "1                         0.5            64.83                    0.498  \n",
       "2                         0.5            64.83                    0.498  \n",
       "3                         0.5            64.83                    0.498  \n",
       "4                         0.5            64.83                    0.498  \n",
       "\n",
       "[5 rows x 55 columns]"
      ]
     },
     "execution_count": 3,
     "metadata": {},
     "output_type": "execute_result"
    }
   ],
   "source": [
    "#printing head( first few rows) of the dataset \n",
    "dataset.head()"
   ]
  },
  {
   "cell_type": "code",
   "execution_count": 4,
   "metadata": {},
   "outputs": [
    {
     "data": {
      "text/plain": [
       "iso_code                                  object\n",
       "continent                                 object\n",
       "location                                  object\n",
       "date                                      object\n",
       "total_cases                              float64\n",
       "new_cases                                float64\n",
       "new_cases_smoothed                       float64\n",
       "total_deaths                             float64\n",
       "new_deaths                               float64\n",
       "new_deaths_smoothed                      float64\n",
       "total_cases_per_million                  float64\n",
       "new_cases_per_million                    float64\n",
       "new_cases_smoothed_per_million           float64\n",
       "total_deaths_per_million                 float64\n",
       "new_deaths_per_million                   float64\n",
       "new_deaths_smoothed_per_million          float64\n",
       "reproduction_rate                        float64\n",
       "icu_patients                             float64\n",
       "icu_patients_per_million                 float64\n",
       "hosp_patients                            float64\n",
       "hosp_patients_per_million                float64\n",
       "weekly_icu_admissions                    float64\n",
       "weekly_icu_admissions_per_million        float64\n",
       "weekly_hosp_admissions                   float64\n",
       "weekly_hosp_admissions_per_million       float64\n",
       "new_tests                                float64\n",
       "total_tests                              float64\n",
       "total_tests_per_thousand                 float64\n",
       "new_tests_per_thousand                   float64\n",
       "new_tests_smoothed                       float64\n",
       "new_tests_smoothed_per_thousand          float64\n",
       "positive_rate                            float64\n",
       "tests_per_case                           float64\n",
       "tests_units                               object\n",
       "total_vaccinations                       float64\n",
       "new_vaccinations                         float64\n",
       "new_vaccinations_smoothed                float64\n",
       "total_vaccinations_per_hundred           float64\n",
       "new_vaccinations_smoothed_per_million    float64\n",
       "stringency_index                         float64\n",
       "population                               float64\n",
       "population_density                       float64\n",
       "median_age                               float64\n",
       "aged_65_older                            float64\n",
       "aged_70_older                            float64\n",
       "gdp_per_capita                           float64\n",
       "extreme_poverty                          float64\n",
       "cardiovasc_death_rate                    float64\n",
       "diabetes_prevalence                      float64\n",
       "female_smokers                           float64\n",
       "male_smokers                             float64\n",
       "handwashing_facilities                   float64\n",
       "hospital_beds_per_thousand               float64\n",
       "life_expectancy                          float64\n",
       "human_development_index                  float64\n",
       "dtype: object"
      ]
     },
     "execution_count": 4,
     "metadata": {},
     "output_type": "execute_result"
    }
   ],
   "source": [
    "#the datatype of the columns\n",
    "dataset.dtypes"
   ]
  },
  {
   "cell_type": "code",
   "execution_count": 5,
   "metadata": {},
   "outputs": [
    {
     "data": {
      "text/plain": [
       "(44025, 55)"
      ]
     },
     "execution_count": 5,
     "metadata": {},
     "output_type": "execute_result"
    }
   ],
   "source": [
    "#the total no of rows and columns\n",
    "dataset.shape"
   ]
  },
  {
   "cell_type": "code",
   "execution_count": 6,
   "metadata": {},
   "outputs": [
    {
     "data": {
      "text/html": [
       "<div>\n",
       "<style scoped>\n",
       "    .dataframe tbody tr th:only-of-type {\n",
       "        vertical-align: middle;\n",
       "    }\n",
       "\n",
       "    .dataframe tbody tr th {\n",
       "        vertical-align: top;\n",
       "    }\n",
       "\n",
       "    .dataframe thead th {\n",
       "        text-align: right;\n",
       "    }\n",
       "</style>\n",
       "<table border=\"1\" class=\"dataframe\">\n",
       "  <thead>\n",
       "    <tr style=\"text-align: right;\">\n",
       "      <th></th>\n",
       "      <th>total_cases</th>\n",
       "      <th>new_cases</th>\n",
       "      <th>new_cases_smoothed</th>\n",
       "      <th>total_deaths</th>\n",
       "      <th>new_deaths</th>\n",
       "      <th>new_deaths_smoothed</th>\n",
       "      <th>total_cases_per_million</th>\n",
       "      <th>new_cases_per_million</th>\n",
       "      <th>new_cases_smoothed_per_million</th>\n",
       "      <th>total_deaths_per_million</th>\n",
       "      <th>...</th>\n",
       "      <th>gdp_per_capita</th>\n",
       "      <th>extreme_poverty</th>\n",
       "      <th>cardiovasc_death_rate</th>\n",
       "      <th>diabetes_prevalence</th>\n",
       "      <th>female_smokers</th>\n",
       "      <th>male_smokers</th>\n",
       "      <th>handwashing_facilities</th>\n",
       "      <th>hospital_beds_per_thousand</th>\n",
       "      <th>life_expectancy</th>\n",
       "      <th>human_development_index</th>\n",
       "    </tr>\n",
       "  </thead>\n",
       "  <tbody>\n",
       "    <tr>\n",
       "      <th>count</th>\n",
       "      <td>4.356500e+04</td>\n",
       "      <td>43563.000000</td>\n",
       "      <td>42863.000000</td>\n",
       "      <td>38343.000000</td>\n",
       "      <td>38342.000000</td>\n",
       "      <td>42863.000000</td>\n",
       "      <td>43224.000000</td>\n",
       "      <td>43222.000000</td>\n",
       "      <td>42527.000000</td>\n",
       "      <td>38015.000000</td>\n",
       "      <td>...</td>\n",
       "      <td>42426.000000</td>\n",
       "      <td>29622.000000</td>\n",
       "      <td>42668.000000</td>\n",
       "      <td>43378.000000</td>\n",
       "      <td>33988.000000</td>\n",
       "      <td>33367.000000</td>\n",
       "      <td>21159.000000</td>\n",
       "      <td>39073.000000</td>\n",
       "      <td>43378.000000</td>\n",
       "      <td>43059.000000</td>\n",
       "    </tr>\n",
       "    <tr>\n",
       "      <th>mean</th>\n",
       "      <td>1.224321e+05</td>\n",
       "      <td>1210.704933</td>\n",
       "      <td>1209.299522</td>\n",
       "      <td>4048.819159</td>\n",
       "      <td>32.959574</td>\n",
       "      <td>28.989613</td>\n",
       "      <td>5334.618011</td>\n",
       "      <td>60.206820</td>\n",
       "      <td>59.895498</td>\n",
       "      <td>127.000358</td>\n",
       "      <td>...</td>\n",
       "      <td>18462.704206</td>\n",
       "      <td>12.154233</td>\n",
       "      <td>255.502627</td>\n",
       "      <td>7.685616</td>\n",
       "      <td>10.854157</td>\n",
       "      <td>32.390820</td>\n",
       "      <td>51.842819</td>\n",
       "      <td>3.014145</td>\n",
       "      <td>73.096322</td>\n",
       "      <td>0.714632</td>\n",
       "    </tr>\n",
       "    <tr>\n",
       "      <th>std</th>\n",
       "      <td>6.098377e+05</td>\n",
       "      <td>5256.521069</td>\n",
       "      <td>5072.606197</td>\n",
       "      <td>15511.813717</td>\n",
       "      <td>126.022174</td>\n",
       "      <td>107.452826</td>\n",
       "      <td>10640.225643</td>\n",
       "      <td>151.949091</td>\n",
       "      <td>133.084587</td>\n",
       "      <td>226.460385</td>\n",
       "      <td>...</td>\n",
       "      <td>19231.184157</td>\n",
       "      <td>19.688638</td>\n",
       "      <td>113.395977</td>\n",
       "      <td>3.900972</td>\n",
       "      <td>10.752445</td>\n",
       "      <td>13.555362</td>\n",
       "      <td>32.493229</td>\n",
       "      <td>2.528487</td>\n",
       "      <td>7.626341</td>\n",
       "      <td>0.153351</td>\n",
       "    </tr>\n",
       "    <tr>\n",
       "      <th>min</th>\n",
       "      <td>1.000000e+00</td>\n",
       "      <td>-46076.000000</td>\n",
       "      <td>-1121.714000</td>\n",
       "      <td>1.000000</td>\n",
       "      <td>-443.000000</td>\n",
       "      <td>-63.000000</td>\n",
       "      <td>0.001000</td>\n",
       "      <td>-2153.437000</td>\n",
       "      <td>-276.825000</td>\n",
       "      <td>0.001000</td>\n",
       "      <td>...</td>\n",
       "      <td>661.240000</td>\n",
       "      <td>0.100000</td>\n",
       "      <td>79.370000</td>\n",
       "      <td>0.990000</td>\n",
       "      <td>0.100000</td>\n",
       "      <td>7.700000</td>\n",
       "      <td>1.188000</td>\n",
       "      <td>0.100000</td>\n",
       "      <td>53.280000</td>\n",
       "      <td>0.354000</td>\n",
       "    </tr>\n",
       "    <tr>\n",
       "      <th>25%</th>\n",
       "      <td>5.880000e+02</td>\n",
       "      <td>2.000000</td>\n",
       "      <td>5.571000</td>\n",
       "      <td>26.000000</td>\n",
       "      <td>0.000000</td>\n",
       "      <td>0.000000</td>\n",
       "      <td>125.723750</td>\n",
       "      <td>0.183000</td>\n",
       "      <td>1.100000</td>\n",
       "      <td>5.103000</td>\n",
       "      <td>...</td>\n",
       "      <td>4881.406000</td>\n",
       "      <td>0.600000</td>\n",
       "      <td>167.295000</td>\n",
       "      <td>5.070000</td>\n",
       "      <td>1.900000</td>\n",
       "      <td>20.700000</td>\n",
       "      <td>17.450000</td>\n",
       "      <td>1.300000</td>\n",
       "      <td>67.270000</td>\n",
       "      <td>0.592000</td>\n",
       "    </tr>\n",
       "    <tr>\n",
       "      <th>50%</th>\n",
       "      <td>5.836000e+03</td>\n",
       "      <td>54.000000</td>\n",
       "      <td>62.571000</td>\n",
       "      <td>165.000000</td>\n",
       "      <td>1.000000</td>\n",
       "      <td>0.857000</td>\n",
       "      <td>910.634500</td>\n",
       "      <td>6.233000</td>\n",
       "      <td>7.943000</td>\n",
       "      <td>27.497000</td>\n",
       "      <td>...</td>\n",
       "      <td>12236.706000</td>\n",
       "      <td>2.000000</td>\n",
       "      <td>243.811000</td>\n",
       "      <td>7.110000</td>\n",
       "      <td>5.900000</td>\n",
       "      <td>33.100000</td>\n",
       "      <td>52.232000</td>\n",
       "      <td>2.200000</td>\n",
       "      <td>74.620000</td>\n",
       "      <td>0.747000</td>\n",
       "    </tr>\n",
       "    <tr>\n",
       "      <th>75%</th>\n",
       "      <td>5.229800e+04</td>\n",
       "      <td>508.000000</td>\n",
       "      <td>525.714000</td>\n",
       "      <td>1386.000000</td>\n",
       "      <td>11.000000</td>\n",
       "      <td>9.000000</td>\n",
       "      <td>5128.015000</td>\n",
       "      <td>50.963000</td>\n",
       "      <td>54.854500</td>\n",
       "      <td>123.575000</td>\n",
       "      <td>...</td>\n",
       "      <td>26777.561000</td>\n",
       "      <td>15.000000</td>\n",
       "      <td>329.942000</td>\n",
       "      <td>9.740000</td>\n",
       "      <td>19.600000</td>\n",
       "      <td>42.400000</td>\n",
       "      <td>83.741000</td>\n",
       "      <td>4.210000</td>\n",
       "      <td>78.740000</td>\n",
       "      <td>0.838000</td>\n",
       "    </tr>\n",
       "    <tr>\n",
       "      <th>max</th>\n",
       "      <td>1.049515e+07</td>\n",
       "      <td>106091.000000</td>\n",
       "      <td>93198.571000</td>\n",
       "      <td>204690.000000</td>\n",
       "      <td>4143.000000</td>\n",
       "      <td>1168.000000</td>\n",
       "      <td>112366.531000</td>\n",
       "      <td>3869.799000</td>\n",
       "      <td>1536.030000</td>\n",
       "      <td>1742.422000</td>\n",
       "      <td>...</td>\n",
       "      <td>116935.600000</td>\n",
       "      <td>77.600000</td>\n",
       "      <td>597.029000</td>\n",
       "      <td>30.530000</td>\n",
       "      <td>44.000000</td>\n",
       "      <td>76.100000</td>\n",
       "      <td>98.999000</td>\n",
       "      <td>13.800000</td>\n",
       "      <td>86.750000</td>\n",
       "      <td>0.953000</td>\n",
       "    </tr>\n",
       "  </tbody>\n",
       "</table>\n",
       "<p>8 rows × 50 columns</p>\n",
       "</div>"
      ],
      "text/plain": [
       "        total_cases      new_cases  new_cases_smoothed   total_deaths  \\\n",
       "count  4.356500e+04   43563.000000        42863.000000   38343.000000   \n",
       "mean   1.224321e+05    1210.704933         1209.299522    4048.819159   \n",
       "std    6.098377e+05    5256.521069         5072.606197   15511.813717   \n",
       "min    1.000000e+00  -46076.000000        -1121.714000       1.000000   \n",
       "25%    5.880000e+02       2.000000            5.571000      26.000000   \n",
       "50%    5.836000e+03      54.000000           62.571000     165.000000   \n",
       "75%    5.229800e+04     508.000000          525.714000    1386.000000   \n",
       "max    1.049515e+07  106091.000000        93198.571000  204690.000000   \n",
       "\n",
       "         new_deaths  new_deaths_smoothed  total_cases_per_million  \\\n",
       "count  38342.000000         42863.000000             43224.000000   \n",
       "mean      32.959574            28.989613              5334.618011   \n",
       "std      126.022174           107.452826             10640.225643   \n",
       "min     -443.000000           -63.000000                 0.001000   \n",
       "25%        0.000000             0.000000               125.723750   \n",
       "50%        1.000000             0.857000               910.634500   \n",
       "75%       11.000000             9.000000              5128.015000   \n",
       "max     4143.000000          1168.000000            112366.531000   \n",
       "\n",
       "       new_cases_per_million  new_cases_smoothed_per_million  \\\n",
       "count           43222.000000                    42527.000000   \n",
       "mean               60.206820                       59.895498   \n",
       "std               151.949091                      133.084587   \n",
       "min             -2153.437000                     -276.825000   \n",
       "25%                 0.183000                        1.100000   \n",
       "50%                 6.233000                        7.943000   \n",
       "75%                50.963000                       54.854500   \n",
       "max              3869.799000                     1536.030000   \n",
       "\n",
       "       total_deaths_per_million  ...  gdp_per_capita  extreme_poverty  \\\n",
       "count              38015.000000  ...    42426.000000     29622.000000   \n",
       "mean                 127.000358  ...    18462.704206        12.154233   \n",
       "std                  226.460385  ...    19231.184157        19.688638   \n",
       "min                    0.001000  ...      661.240000         0.100000   \n",
       "25%                    5.103000  ...     4881.406000         0.600000   \n",
       "50%                   27.497000  ...    12236.706000         2.000000   \n",
       "75%                  123.575000  ...    26777.561000        15.000000   \n",
       "max                 1742.422000  ...   116935.600000        77.600000   \n",
       "\n",
       "       cardiovasc_death_rate  diabetes_prevalence  female_smokers  \\\n",
       "count           42668.000000         43378.000000    33988.000000   \n",
       "mean              255.502627             7.685616       10.854157   \n",
       "std               113.395977             3.900972       10.752445   \n",
       "min                79.370000             0.990000        0.100000   \n",
       "25%               167.295000             5.070000        1.900000   \n",
       "50%               243.811000             7.110000        5.900000   \n",
       "75%               329.942000             9.740000       19.600000   \n",
       "max               597.029000            30.530000       44.000000   \n",
       "\n",
       "       male_smokers  handwashing_facilities  hospital_beds_per_thousand  \\\n",
       "count  33367.000000            21159.000000                39073.000000   \n",
       "mean      32.390820               51.842819                    3.014145   \n",
       "std       13.555362               32.493229                    2.528487   \n",
       "min        7.700000                1.188000                    0.100000   \n",
       "25%       20.700000               17.450000                    1.300000   \n",
       "50%       33.100000               52.232000                    2.200000   \n",
       "75%       42.400000               83.741000                    4.210000   \n",
       "max       76.100000               98.999000                   13.800000   \n",
       "\n",
       "       life_expectancy  human_development_index  \n",
       "count     43378.000000             43059.000000  \n",
       "mean         73.096322                 0.714632  \n",
       "std           7.626341                 0.153351  \n",
       "min          53.280000                 0.354000  \n",
       "25%          67.270000                 0.592000  \n",
       "50%          74.620000                 0.747000  \n",
       "75%          78.740000                 0.838000  \n",
       "max          86.750000                 0.953000  \n",
       "\n",
       "[8 rows x 50 columns]"
      ]
     },
     "execution_count": 6,
     "metadata": {},
     "output_type": "execute_result"
    }
   ],
   "source": [
    "#basic statisical details \n",
    "dataset.describe()"
   ]
  },
  {
   "cell_type": "code",
   "execution_count": 7,
   "metadata": {},
   "outputs": [
    {
     "data": {
      "text/plain": [
       "iso_code                                   341\n",
       "continent                                  341\n",
       "location                                     0\n",
       "date                                         0\n",
       "total_cases                                460\n",
       "new_cases                                  462\n",
       "new_cases_smoothed                        1162\n",
       "total_deaths                              5682\n",
       "new_deaths                                5683\n",
       "new_deaths_smoothed                       1162\n",
       "total_cases_per_million                    801\n",
       "new_cases_per_million                      803\n",
       "new_cases_smoothed_per_million            1498\n",
       "total_deaths_per_million                  6010\n",
       "new_deaths_per_million                    6011\n",
       "new_deaths_smoothed_per_million           1498\n",
       "reproduction_rate                         8781\n",
       "icu_patients                             39137\n",
       "icu_patients_per_million                 39137\n",
       "hosp_patients                            38382\n",
       "hosp_patients_per_million                38382\n",
       "weekly_icu_admissions                    43649\n",
       "weekly_icu_admissions_per_million        43649\n",
       "weekly_hosp_admissions                   43308\n",
       "weekly_hosp_admissions_per_million       43308\n",
       "new_tests                                23562\n",
       "total_tests                              23857\n",
       "total_tests_per_thousand                 23857\n",
       "new_tests_per_thousand                   23562\n",
       "new_tests_smoothed                       21083\n",
       "new_tests_smoothed_per_thousand          21083\n",
       "positive_rate                            22483\n",
       "tests_per_case                           22823\n",
       "tests_units                              20150\n",
       "total_vaccinations                       43663\n",
       "new_vaccinations                         43744\n",
       "new_vaccinations_smoothed                43550\n",
       "total_vaccinations_per_hundred           43663\n",
       "new_vaccinations_smoothed_per_million    43550\n",
       "stringency_index                          3966\n",
       "population                                 341\n",
       "population_density                         341\n",
       "median_age                                1971\n",
       "aged_65_older                             1971\n",
       "aged_70_older                             1971\n",
       "gdp_per_capita                            1599\n",
       "extreme_poverty                          14403\n",
       "cardiovasc_death_rate                     1357\n",
       "diabetes_prevalence                        647\n",
       "female_smokers                           10037\n",
       "male_smokers                             10658\n",
       "handwashing_facilities                   22866\n",
       "hospital_beds_per_thousand                4952\n",
       "life_expectancy                            647\n",
       "human_development_index                    966\n",
       "dtype: int64"
      ]
     },
     "execution_count": 7,
     "metadata": {},
     "output_type": "execute_result"
    }
   ],
   "source": [
    "#checking for any null values\n",
    "dataset.isnull().sum()"
   ]
  },
  {
   "cell_type": "code",
   "execution_count": 24,
   "metadata": {},
   "outputs": [
    {
     "data": {
      "text/html": [
       "<div>\n",
       "<style scoped>\n",
       "    .dataframe tbody tr th:only-of-type {\n",
       "        vertical-align: middle;\n",
       "    }\n",
       "\n",
       "    .dataframe tbody tr th {\n",
       "        vertical-align: top;\n",
       "    }\n",
       "\n",
       "    .dataframe thead th {\n",
       "        text-align: right;\n",
       "    }\n",
       "</style>\n",
       "<table border=\"1\" class=\"dataframe\">\n",
       "  <thead>\n",
       "    <tr style=\"text-align: right;\">\n",
       "      <th></th>\n",
       "      <th>iso_code</th>\n",
       "      <th>continent</th>\n",
       "      <th>location</th>\n",
       "      <th>date</th>\n",
       "      <th>total_cases</th>\n",
       "      <th>new_cases</th>\n",
       "      <th>new_cases_smoothed</th>\n",
       "      <th>total_deaths</th>\n",
       "      <th>new_deaths</th>\n",
       "      <th>new_deaths_smoothed</th>\n",
       "      <th>...</th>\n",
       "      <th>gdp_per_capita</th>\n",
       "      <th>extreme_poverty</th>\n",
       "      <th>cardiovasc_death_rate</th>\n",
       "      <th>diabetes_prevalence</th>\n",
       "      <th>female_smokers</th>\n",
       "      <th>male_smokers</th>\n",
       "      <th>handwashing_facilities</th>\n",
       "      <th>hospital_beds_per_thousand</th>\n",
       "      <th>life_expectancy</th>\n",
       "      <th>human_development_index</th>\n",
       "    </tr>\n",
       "  </thead>\n",
       "  <tbody>\n",
       "    <tr>\n",
       "      <th>265</th>\n",
       "      <td>AFG</td>\n",
       "      <td>Asia</td>\n",
       "      <td>Afghanistan</td>\n",
       "      <td>2020-11-15</td>\n",
       "      <td>43240.0</td>\n",
       "      <td>205.0</td>\n",
       "      <td>154.429</td>\n",
       "      <td>1620.0</td>\n",
       "      <td>12.0</td>\n",
       "      <td>7.857</td>\n",
       "      <td>...</td>\n",
       "      <td>1803.987</td>\n",
       "      <td>NaN</td>\n",
       "      <td>597.029</td>\n",
       "      <td>9.59</td>\n",
       "      <td>NaN</td>\n",
       "      <td>NaN</td>\n",
       "      <td>37.746</td>\n",
       "      <td>0.50</td>\n",
       "      <td>64.83</td>\n",
       "      <td>0.498</td>\n",
       "    </tr>\n",
       "    <tr>\n",
       "      <th>575</th>\n",
       "      <td>ALB</td>\n",
       "      <td>Europe</td>\n",
       "      <td>Albania</td>\n",
       "      <td>2020-11-15</td>\n",
       "      <td>27830.0</td>\n",
       "      <td>597.0</td>\n",
       "      <td>517.714</td>\n",
       "      <td>623.0</td>\n",
       "      <td>11.0</td>\n",
       "      <td>9.143</td>\n",
       "      <td>...</td>\n",
       "      <td>11803.431</td>\n",
       "      <td>1.1</td>\n",
       "      <td>304.195</td>\n",
       "      <td>10.08</td>\n",
       "      <td>7.1</td>\n",
       "      <td>51.2</td>\n",
       "      <td>NaN</td>\n",
       "      <td>2.89</td>\n",
       "      <td>78.57</td>\n",
       "      <td>0.785</td>\n",
       "    </tr>\n",
       "    <tr>\n",
       "      <th>898</th>\n",
       "      <td>DZA</td>\n",
       "      <td>Africa</td>\n",
       "      <td>Algeria</td>\n",
       "      <td>2020-11-15</td>\n",
       "      <td>67679.0</td>\n",
       "      <td>860.0</td>\n",
       "      <td>804.000</td>\n",
       "      <td>2154.0</td>\n",
       "      <td>15.0</td>\n",
       "      <td>15.143</td>\n",
       "      <td>...</td>\n",
       "      <td>13913.839</td>\n",
       "      <td>0.5</td>\n",
       "      <td>278.364</td>\n",
       "      <td>6.73</td>\n",
       "      <td>0.7</td>\n",
       "      <td>30.4</td>\n",
       "      <td>83.741</td>\n",
       "      <td>1.90</td>\n",
       "      <td>76.88</td>\n",
       "      <td>0.754</td>\n",
       "    </tr>\n",
       "    <tr>\n",
       "      <th>1215</th>\n",
       "      <td>AND</td>\n",
       "      <td>Europe</td>\n",
       "      <td>Andorra</td>\n",
       "      <td>2020-11-15</td>\n",
       "      <td>5872.0</td>\n",
       "      <td>147.0</td>\n",
       "      <td>69.857</td>\n",
       "      <td>76.0</td>\n",
       "      <td>1.0</td>\n",
       "      <td>0.143</td>\n",
       "      <td>...</td>\n",
       "      <td>NaN</td>\n",
       "      <td>NaN</td>\n",
       "      <td>109.135</td>\n",
       "      <td>7.97</td>\n",
       "      <td>29.0</td>\n",
       "      <td>37.8</td>\n",
       "      <td>NaN</td>\n",
       "      <td>NaN</td>\n",
       "      <td>83.73</td>\n",
       "      <td>0.858</td>\n",
       "    </tr>\n",
       "    <tr>\n",
       "      <th>1514</th>\n",
       "      <td>AGO</td>\n",
       "      <td>Africa</td>\n",
       "      <td>Angola</td>\n",
       "      <td>2020-11-15</td>\n",
       "      <td>13451.0</td>\n",
       "      <td>77.0</td>\n",
       "      <td>145.429</td>\n",
       "      <td>322.0</td>\n",
       "      <td>0.0</td>\n",
       "      <td>2.143</td>\n",
       "      <td>...</td>\n",
       "      <td>5819.495</td>\n",
       "      <td>NaN</td>\n",
       "      <td>276.045</td>\n",
       "      <td>3.94</td>\n",
       "      <td>NaN</td>\n",
       "      <td>NaN</td>\n",
       "      <td>26.664</td>\n",
       "      <td>NaN</td>\n",
       "      <td>61.15</td>\n",
       "      <td>0.581</td>\n",
       "    </tr>\n",
       "  </tbody>\n",
       "</table>\n",
       "<p>5 rows × 55 columns</p>\n",
       "</div>"
      ],
      "text/plain": [
       "     iso_code continent     location        date  total_cases  new_cases  \\\n",
       "265       AFG      Asia  Afghanistan  2020-11-15      43240.0      205.0   \n",
       "575       ALB    Europe      Albania  2020-11-15      27830.0      597.0   \n",
       "898       DZA    Africa      Algeria  2020-11-15      67679.0      860.0   \n",
       "1215      AND    Europe      Andorra  2020-11-15       5872.0      147.0   \n",
       "1514      AGO    Africa       Angola  2020-11-15      13451.0       77.0   \n",
       "\n",
       "      new_cases_smoothed  total_deaths  new_deaths  new_deaths_smoothed  ...  \\\n",
       "265              154.429        1620.0        12.0                7.857  ...   \n",
       "575              517.714         623.0        11.0                9.143  ...   \n",
       "898              804.000        2154.0        15.0               15.143  ...   \n",
       "1215              69.857          76.0         1.0                0.143  ...   \n",
       "1514             145.429         322.0         0.0                2.143  ...   \n",
       "\n",
       "      gdp_per_capita  extreme_poverty  cardiovasc_death_rate  \\\n",
       "265         1803.987              NaN                597.029   \n",
       "575        11803.431              1.1                304.195   \n",
       "898        13913.839              0.5                278.364   \n",
       "1215             NaN              NaN                109.135   \n",
       "1514        5819.495              NaN                276.045   \n",
       "\n",
       "      diabetes_prevalence  female_smokers  male_smokers  \\\n",
       "265                  9.59             NaN           NaN   \n",
       "575                 10.08             7.1          51.2   \n",
       "898                  6.73             0.7          30.4   \n",
       "1215                 7.97            29.0          37.8   \n",
       "1514                 3.94             NaN           NaN   \n",
       "\n",
       "      handwashing_facilities  hospital_beds_per_thousand  life_expectancy  \\\n",
       "265                   37.746                        0.50            64.83   \n",
       "575                      NaN                        2.89            78.57   \n",
       "898                   83.741                        1.90            76.88   \n",
       "1215                     NaN                         NaN            83.73   \n",
       "1514                  26.664                         NaN            61.15   \n",
       "\n",
       "      human_development_index  \n",
       "265                     0.498  \n",
       "575                     0.785  \n",
       "898                     0.754  \n",
       "1215                    0.858  \n",
       "1514                    0.581  \n",
       "\n",
       "[5 rows x 55 columns]"
      ]
     },
     "execution_count": 24,
     "metadata": {},
     "output_type": "execute_result"
    }
   ],
   "source": [
    "#Coping data to another variable without World and International column\n",
    "data = dataset[dataset['date']=='2020-11-15']\n",
    "data = data[~data['location'].isin(['World','International'])]\n",
    "data.head()"
   ]
  },
  {
   "cell_type": "markdown",
   "metadata": {},
   "source": [
    "### Data Visualization"
   ]
  },
  {
   "cell_type": "markdown",
   "metadata": {},
   "source": [
    "#### World Map of Showing Total Deaths in the World"
   ]
  },
  {
   "cell_type": "code",
   "execution_count": 25,
   "metadata": {},
   "outputs": [
    {
     "data": {
      "application/vnd.plotly.v1+json": {
       "config": {
        "plotlyServerURL": "https://plot.ly"
       },
       "data": [
        {
         "coloraxis": "coloraxis",
         "geo": "geo",
         "hovertemplate": "<b>%{hovertext}</b><br><br>iso_code=%{location}<br>total_deaths=%{z}<extra></extra>",
         "hovertext": [
          "Afghanistan",
          "Albania",
          "Algeria",
          "Andorra",
          "Angola",
          "Antigua and Barbuda",
          "Argentina",
          "Armenia",
          "Australia",
          "Austria",
          "Azerbaijan",
          "Bahamas",
          "Bahrain",
          "Bangladesh",
          "Barbados",
          "Belarus",
          "Belgium",
          "Belize",
          "Benin",
          "Bhutan",
          "Bolivia",
          "Bosnia and Herzegovina",
          "Botswana",
          "Brazil",
          "Brunei",
          "Bulgaria",
          "Burkina Faso",
          "Burundi",
          "Cambodia",
          "Cameroon",
          "Canada",
          "Cape Verde",
          "Central African Republic",
          "Chad",
          "Chile",
          "China",
          "Colombia",
          "Comoros",
          "Congo",
          "Costa Rica",
          "Cote d'Ivoire",
          "Croatia",
          "Cuba",
          "Cyprus",
          "Czechia",
          "Democratic Republic of Congo",
          "Denmark",
          "Djibouti",
          "Dominica",
          "Dominican Republic",
          "Ecuador",
          "Egypt",
          "El Salvador",
          "Equatorial Guinea",
          "Eritrea",
          "Estonia",
          "Eswatini",
          "Ethiopia",
          "Fiji",
          "Finland",
          "France",
          "Gabon",
          "Gambia",
          "Georgia",
          "Germany",
          "Ghana",
          "Greece",
          "Grenada",
          "Guatemala",
          "Guinea",
          "Guinea-Bissau",
          "Guyana",
          "Haiti",
          "Honduras",
          "Hungary",
          "Iceland",
          "India",
          "Indonesia",
          "Iran",
          "Iraq",
          "Ireland",
          "Israel",
          "Italy",
          "Jamaica",
          "Japan",
          "Jordan",
          "Kazakhstan",
          "Kenya",
          "Kosovo",
          "Kuwait",
          "Kyrgyzstan",
          "Laos",
          "Latvia",
          "Lebanon",
          "Lesotho",
          "Liberia",
          "Libya",
          "Liechtenstein",
          "Lithuania",
          "Luxembourg",
          "Madagascar",
          "Malawi",
          "Malaysia",
          "Maldives",
          "Mali",
          "Malta",
          "Marshall Islands",
          "Mauritania",
          "Mauritius",
          "Mexico",
          "Moldova",
          "Monaco",
          "Mongolia",
          "Montenegro",
          "Morocco",
          "Mozambique",
          "Myanmar",
          "Namibia",
          "Nepal",
          "Netherlands",
          "New Zealand",
          "Nicaragua",
          "Niger",
          "Nigeria",
          "North Macedonia",
          "Norway",
          "Oman",
          "Pakistan",
          "Palestine",
          "Panama",
          "Papua New Guinea",
          "Paraguay",
          "Peru",
          "Philippines",
          "Poland",
          "Portugal",
          "Qatar",
          "Romania"
         ],
         "locations": [
          "AFG",
          "ALB",
          "DZA",
          "AND",
          "AGO",
          "ATG",
          "ARG",
          "ARM",
          "AUS",
          "AUT",
          "AZE",
          "BHS",
          "BHR",
          "BGD",
          "BRB",
          "BLR",
          "BEL",
          "BLZ",
          "BEN",
          "BTN",
          "BOL",
          "BIH",
          "BWA",
          "BRA",
          "BRN",
          "BGR",
          "BFA",
          "BDI",
          "KHM",
          "CMR",
          "CAN",
          "CPV",
          "CAF",
          "TCD",
          "CHL",
          "CHN",
          "COL",
          "COM",
          "COG",
          "CRI",
          "CIV",
          "HRV",
          "CUB",
          "CYP",
          "CZE",
          "COD",
          "DNK",
          "DJI",
          "DMA",
          "DOM",
          "ECU",
          "EGY",
          "SLV",
          "GNQ",
          "ERI",
          "EST",
          "SWZ",
          "ETH",
          "FJI",
          "FIN",
          "FRA",
          "GAB",
          "GMB",
          "GEO",
          "DEU",
          "GHA",
          "GRC",
          "GRD",
          "GTM",
          "GIN",
          "GNB",
          "GUY",
          "HTI",
          "HND",
          "HUN",
          "ISL",
          "IND",
          "IDN",
          "IRN",
          "IRQ",
          "IRL",
          "ISR",
          "ITA",
          "JAM",
          "JPN",
          "JOR",
          "KAZ",
          "KEN",
          "OWID_KOS",
          "KWT",
          "KGZ",
          "LAO",
          "LVA",
          "LBN",
          "LSO",
          "LBR",
          "LBY",
          "LIE",
          "LTU",
          "LUX",
          "MDG",
          "MWI",
          "MYS",
          "MDV",
          "MLI",
          "MLT",
          "MHL",
          "MRT",
          "MUS",
          "MEX",
          "MDA",
          "MCO",
          "MNG",
          "MNE",
          "MAR",
          "MOZ",
          "MMR",
          "NAM",
          "NPL",
          "NLD",
          "NZL",
          "NIC",
          "NER",
          "NGA",
          "MKD",
          "NOR",
          "OMN",
          "PAK",
          "PSE",
          "PAN",
          "PNG",
          "PRY",
          "PER",
          "PHL",
          "POL",
          "PRT",
          "QAT",
          "ROU"
         ],
         "name": "",
         "type": "choropleth",
         "z": [
          1620,
          623,
          2154,
          76,
          322,
          4,
          35436,
          1763,
          907,
          1829,
          967,
          156,
          334,
          6194,
          7,
          1046,
          14421,
          90,
          43,
          null,
          8849,
          1889,
          27,
          165798,
          3,
          2130,
          68,
          1,
          null,
          433,
          11001,
          103,
          63,
          101,
          14819,
          4742,
          34031,
          7,
          92,
          1546,
          128,
          1049,
          131,
          39,
          6208,
          319,
          760,
          61,
          null,
          2285,
          13008,
          6453,
          1044,
          85,
          null,
          81,
          119,
          1569,
          2,
          369,
          44613,
          58,
          122,
          703,
          12573,
          322,
          1106,
          null,
          3932,
          75,
          43,
          139,
          232,
          2823,
          3097,
          25,
          130070,
          15211,
          41493,
          11670,
          1979,
          2744,
          45229,
          231,
          1874,
          1772,
          2317,
          1269,
          822,
          838,
          1203,
          null,
          123,
          817,
          44,
          82,
          1017,
          5,
          277,
          219,
          250,
          185,
          309,
          43,
          141,
          97,
          null,
          165,
          10,
          98542,
          2019,
          2,
          null,
          391,
          4779,
          113,
          1577,
          138,
          1221,
          8559,
          25,
          158,
          70,
          1163,
          1305,
          294,
          1338,
          7160,
          565,
          2873,
          7,
          1587,
          35177,
          7832,
          10348,
          3381,
          234,
          8926
         ]
        }
       ],
       "layout": {
        "coloraxis": {
         "colorbar": {
          "title": {
           "text": "total_deaths"
          }
         },
         "colorscale": [
          [
           0,
           "rgb(255,245,240)"
          ],
          [
           0.125,
           "rgb(254,224,210)"
          ],
          [
           0.25,
           "rgb(252,187,161)"
          ],
          [
           0.375,
           "rgb(252,146,114)"
          ],
          [
           0.5,
           "rgb(251,106,74)"
          ],
          [
           0.625,
           "rgb(239,59,44)"
          ],
          [
           0.75,
           "rgb(203,24,29)"
          ],
          [
           0.875,
           "rgb(165,15,21)"
          ],
          [
           1,
           "rgb(103,0,13)"
          ]
         ]
        },
        "geo": {
         "center": {},
         "domain": {
          "x": [
           0,
           1
          ],
          "y": [
           0,
           1
          ]
         }
        },
        "legend": {
         "tracegroupgap": 0
        },
        "template": {
         "data": {
          "bar": [
           {
            "error_x": {
             "color": "#2a3f5f"
            },
            "error_y": {
             "color": "#2a3f5f"
            },
            "marker": {
             "line": {
              "color": "#E5ECF6",
              "width": 0.5
             }
            },
            "type": "bar"
           }
          ],
          "barpolar": [
           {
            "marker": {
             "line": {
              "color": "#E5ECF6",
              "width": 0.5
             }
            },
            "type": "barpolar"
           }
          ],
          "carpet": [
           {
            "aaxis": {
             "endlinecolor": "#2a3f5f",
             "gridcolor": "white",
             "linecolor": "white",
             "minorgridcolor": "white",
             "startlinecolor": "#2a3f5f"
            },
            "baxis": {
             "endlinecolor": "#2a3f5f",
             "gridcolor": "white",
             "linecolor": "white",
             "minorgridcolor": "white",
             "startlinecolor": "#2a3f5f"
            },
            "type": "carpet"
           }
          ],
          "choropleth": [
           {
            "colorbar": {
             "outlinewidth": 0,
             "ticks": ""
            },
            "type": "choropleth"
           }
          ],
          "contour": [
           {
            "colorbar": {
             "outlinewidth": 0,
             "ticks": ""
            },
            "colorscale": [
             [
              0,
              "#0d0887"
             ],
             [
              0.1111111111111111,
              "#46039f"
             ],
             [
              0.2222222222222222,
              "#7201a8"
             ],
             [
              0.3333333333333333,
              "#9c179e"
             ],
             [
              0.4444444444444444,
              "#bd3786"
             ],
             [
              0.5555555555555556,
              "#d8576b"
             ],
             [
              0.6666666666666666,
              "#ed7953"
             ],
             [
              0.7777777777777778,
              "#fb9f3a"
             ],
             [
              0.8888888888888888,
              "#fdca26"
             ],
             [
              1,
              "#f0f921"
             ]
            ],
            "type": "contour"
           }
          ],
          "contourcarpet": [
           {
            "colorbar": {
             "outlinewidth": 0,
             "ticks": ""
            },
            "type": "contourcarpet"
           }
          ],
          "heatmap": [
           {
            "colorbar": {
             "outlinewidth": 0,
             "ticks": ""
            },
            "colorscale": [
             [
              0,
              "#0d0887"
             ],
             [
              0.1111111111111111,
              "#46039f"
             ],
             [
              0.2222222222222222,
              "#7201a8"
             ],
             [
              0.3333333333333333,
              "#9c179e"
             ],
             [
              0.4444444444444444,
              "#bd3786"
             ],
             [
              0.5555555555555556,
              "#d8576b"
             ],
             [
              0.6666666666666666,
              "#ed7953"
             ],
             [
              0.7777777777777778,
              "#fb9f3a"
             ],
             [
              0.8888888888888888,
              "#fdca26"
             ],
             [
              1,
              "#f0f921"
             ]
            ],
            "type": "heatmap"
           }
          ],
          "heatmapgl": [
           {
            "colorbar": {
             "outlinewidth": 0,
             "ticks": ""
            },
            "colorscale": [
             [
              0,
              "#0d0887"
             ],
             [
              0.1111111111111111,
              "#46039f"
             ],
             [
              0.2222222222222222,
              "#7201a8"
             ],
             [
              0.3333333333333333,
              "#9c179e"
             ],
             [
              0.4444444444444444,
              "#bd3786"
             ],
             [
              0.5555555555555556,
              "#d8576b"
             ],
             [
              0.6666666666666666,
              "#ed7953"
             ],
             [
              0.7777777777777778,
              "#fb9f3a"
             ],
             [
              0.8888888888888888,
              "#fdca26"
             ],
             [
              1,
              "#f0f921"
             ]
            ],
            "type": "heatmapgl"
           }
          ],
          "histogram": [
           {
            "marker": {
             "colorbar": {
              "outlinewidth": 0,
              "ticks": ""
             }
            },
            "type": "histogram"
           }
          ],
          "histogram2d": [
           {
            "colorbar": {
             "outlinewidth": 0,
             "ticks": ""
            },
            "colorscale": [
             [
              0,
              "#0d0887"
             ],
             [
              0.1111111111111111,
              "#46039f"
             ],
             [
              0.2222222222222222,
              "#7201a8"
             ],
             [
              0.3333333333333333,
              "#9c179e"
             ],
             [
              0.4444444444444444,
              "#bd3786"
             ],
             [
              0.5555555555555556,
              "#d8576b"
             ],
             [
              0.6666666666666666,
              "#ed7953"
             ],
             [
              0.7777777777777778,
              "#fb9f3a"
             ],
             [
              0.8888888888888888,
              "#fdca26"
             ],
             [
              1,
              "#f0f921"
             ]
            ],
            "type": "histogram2d"
           }
          ],
          "histogram2dcontour": [
           {
            "colorbar": {
             "outlinewidth": 0,
             "ticks": ""
            },
            "colorscale": [
             [
              0,
              "#0d0887"
             ],
             [
              0.1111111111111111,
              "#46039f"
             ],
             [
              0.2222222222222222,
              "#7201a8"
             ],
             [
              0.3333333333333333,
              "#9c179e"
             ],
             [
              0.4444444444444444,
              "#bd3786"
             ],
             [
              0.5555555555555556,
              "#d8576b"
             ],
             [
              0.6666666666666666,
              "#ed7953"
             ],
             [
              0.7777777777777778,
              "#fb9f3a"
             ],
             [
              0.8888888888888888,
              "#fdca26"
             ],
             [
              1,
              "#f0f921"
             ]
            ],
            "type": "histogram2dcontour"
           }
          ],
          "mesh3d": [
           {
            "colorbar": {
             "outlinewidth": 0,
             "ticks": ""
            },
            "type": "mesh3d"
           }
          ],
          "parcoords": [
           {
            "line": {
             "colorbar": {
              "outlinewidth": 0,
              "ticks": ""
             }
            },
            "type": "parcoords"
           }
          ],
          "pie": [
           {
            "automargin": true,
            "type": "pie"
           }
          ],
          "scatter": [
           {
            "marker": {
             "colorbar": {
              "outlinewidth": 0,
              "ticks": ""
             }
            },
            "type": "scatter"
           }
          ],
          "scatter3d": [
           {
            "line": {
             "colorbar": {
              "outlinewidth": 0,
              "ticks": ""
             }
            },
            "marker": {
             "colorbar": {
              "outlinewidth": 0,
              "ticks": ""
             }
            },
            "type": "scatter3d"
           }
          ],
          "scattercarpet": [
           {
            "marker": {
             "colorbar": {
              "outlinewidth": 0,
              "ticks": ""
             }
            },
            "type": "scattercarpet"
           }
          ],
          "scattergeo": [
           {
            "marker": {
             "colorbar": {
              "outlinewidth": 0,
              "ticks": ""
             }
            },
            "type": "scattergeo"
           }
          ],
          "scattergl": [
           {
            "marker": {
             "colorbar": {
              "outlinewidth": 0,
              "ticks": ""
             }
            },
            "type": "scattergl"
           }
          ],
          "scattermapbox": [
           {
            "marker": {
             "colorbar": {
              "outlinewidth": 0,
              "ticks": ""
             }
            },
            "type": "scattermapbox"
           }
          ],
          "scatterpolar": [
           {
            "marker": {
             "colorbar": {
              "outlinewidth": 0,
              "ticks": ""
             }
            },
            "type": "scatterpolar"
           }
          ],
          "scatterpolargl": [
           {
            "marker": {
             "colorbar": {
              "outlinewidth": 0,
              "ticks": ""
             }
            },
            "type": "scatterpolargl"
           }
          ],
          "scatterternary": [
           {
            "marker": {
             "colorbar": {
              "outlinewidth": 0,
              "ticks": ""
             }
            },
            "type": "scatterternary"
           }
          ],
          "surface": [
           {
            "colorbar": {
             "outlinewidth": 0,
             "ticks": ""
            },
            "colorscale": [
             [
              0,
              "#0d0887"
             ],
             [
              0.1111111111111111,
              "#46039f"
             ],
             [
              0.2222222222222222,
              "#7201a8"
             ],
             [
              0.3333333333333333,
              "#9c179e"
             ],
             [
              0.4444444444444444,
              "#bd3786"
             ],
             [
              0.5555555555555556,
              "#d8576b"
             ],
             [
              0.6666666666666666,
              "#ed7953"
             ],
             [
              0.7777777777777778,
              "#fb9f3a"
             ],
             [
              0.8888888888888888,
              "#fdca26"
             ],
             [
              1,
              "#f0f921"
             ]
            ],
            "type": "surface"
           }
          ],
          "table": [
           {
            "cells": {
             "fill": {
              "color": "#EBF0F8"
             },
             "line": {
              "color": "white"
             }
            },
            "header": {
             "fill": {
              "color": "#C8D4E3"
             },
             "line": {
              "color": "white"
             }
            },
            "type": "table"
           }
          ]
         },
         "layout": {
          "annotationdefaults": {
           "arrowcolor": "#2a3f5f",
           "arrowhead": 0,
           "arrowwidth": 1
          },
          "autotypenumbers": "strict",
          "coloraxis": {
           "colorbar": {
            "outlinewidth": 0,
            "ticks": ""
           }
          },
          "colorscale": {
           "diverging": [
            [
             0,
             "#8e0152"
            ],
            [
             0.1,
             "#c51b7d"
            ],
            [
             0.2,
             "#de77ae"
            ],
            [
             0.3,
             "#f1b6da"
            ],
            [
             0.4,
             "#fde0ef"
            ],
            [
             0.5,
             "#f7f7f7"
            ],
            [
             0.6,
             "#e6f5d0"
            ],
            [
             0.7,
             "#b8e186"
            ],
            [
             0.8,
             "#7fbc41"
            ],
            [
             0.9,
             "#4d9221"
            ],
            [
             1,
             "#276419"
            ]
           ],
           "sequential": [
            [
             0,
             "#0d0887"
            ],
            [
             0.1111111111111111,
             "#46039f"
            ],
            [
             0.2222222222222222,
             "#7201a8"
            ],
            [
             0.3333333333333333,
             "#9c179e"
            ],
            [
             0.4444444444444444,
             "#bd3786"
            ],
            [
             0.5555555555555556,
             "#d8576b"
            ],
            [
             0.6666666666666666,
             "#ed7953"
            ],
            [
             0.7777777777777778,
             "#fb9f3a"
            ],
            [
             0.8888888888888888,
             "#fdca26"
            ],
            [
             1,
             "#f0f921"
            ]
           ],
           "sequentialminus": [
            [
             0,
             "#0d0887"
            ],
            [
             0.1111111111111111,
             "#46039f"
            ],
            [
             0.2222222222222222,
             "#7201a8"
            ],
            [
             0.3333333333333333,
             "#9c179e"
            ],
            [
             0.4444444444444444,
             "#bd3786"
            ],
            [
             0.5555555555555556,
             "#d8576b"
            ],
            [
             0.6666666666666666,
             "#ed7953"
            ],
            [
             0.7777777777777778,
             "#fb9f3a"
            ],
            [
             0.8888888888888888,
             "#fdca26"
            ],
            [
             1,
             "#f0f921"
            ]
           ]
          },
          "colorway": [
           "#636efa",
           "#EF553B",
           "#00cc96",
           "#ab63fa",
           "#FFA15A",
           "#19d3f3",
           "#FF6692",
           "#B6E880",
           "#FF97FF",
           "#FECB52"
          ],
          "font": {
           "color": "#2a3f5f"
          },
          "geo": {
           "bgcolor": "white",
           "lakecolor": "white",
           "landcolor": "#E5ECF6",
           "showlakes": true,
           "showland": true,
           "subunitcolor": "white"
          },
          "hoverlabel": {
           "align": "left"
          },
          "hovermode": "closest",
          "mapbox": {
           "style": "light"
          },
          "paper_bgcolor": "white",
          "plot_bgcolor": "#E5ECF6",
          "polar": {
           "angularaxis": {
            "gridcolor": "white",
            "linecolor": "white",
            "ticks": ""
           },
           "bgcolor": "#E5ECF6",
           "radialaxis": {
            "gridcolor": "white",
            "linecolor": "white",
            "ticks": ""
           }
          },
          "scene": {
           "xaxis": {
            "backgroundcolor": "#E5ECF6",
            "gridcolor": "white",
            "gridwidth": 2,
            "linecolor": "white",
            "showbackground": true,
            "ticks": "",
            "zerolinecolor": "white"
           },
           "yaxis": {
            "backgroundcolor": "#E5ECF6",
            "gridcolor": "white",
            "gridwidth": 2,
            "linecolor": "white",
            "showbackground": true,
            "ticks": "",
            "zerolinecolor": "white"
           },
           "zaxis": {
            "backgroundcolor": "#E5ECF6",
            "gridcolor": "white",
            "gridwidth": 2,
            "linecolor": "white",
            "showbackground": true,
            "ticks": "",
            "zerolinecolor": "white"
           }
          },
          "shapedefaults": {
           "line": {
            "color": "#2a3f5f"
           }
          },
          "ternary": {
           "aaxis": {
            "gridcolor": "white",
            "linecolor": "white",
            "ticks": ""
           },
           "baxis": {
            "gridcolor": "white",
            "linecolor": "white",
            "ticks": ""
           },
           "bgcolor": "#E5ECF6",
           "caxis": {
            "gridcolor": "white",
            "linecolor": "white",
            "ticks": ""
           }
          },
          "title": {
           "x": 0.05
          },
          "xaxis": {
           "automargin": true,
           "gridcolor": "white",
           "linecolor": "white",
           "ticks": "",
           "title": {
            "standoff": 15
           },
           "zerolinecolor": "white",
           "zerolinewidth": 2
          },
          "yaxis": {
           "automargin": true,
           "gridcolor": "white",
           "linecolor": "white",
           "ticks": "",
           "title": {
            "standoff": 15
           },
           "zerolinecolor": "white",
           "zerolinewidth": 2
          }
         }
        },
        "title": {
         "text": "Total Covid19 deaths in World"
        }
       }
      },
      "text/html": [
       "<div>                            <div id=\"dcc464de-d862-4836-88f5-7edb4949a4e5\" class=\"plotly-graph-div\" style=\"height:525px; width:100%;\"></div>            <script type=\"text/javascript\">                require([\"plotly\"], function(Plotly) {                    window.PLOTLYENV=window.PLOTLYENV || {};                                    if (document.getElementById(\"dcc464de-d862-4836-88f5-7edb4949a4e5\")) {                    Plotly.newPlot(                        \"dcc464de-d862-4836-88f5-7edb4949a4e5\",                        [{\"coloraxis\": \"coloraxis\", \"geo\": \"geo\", \"hovertemplate\": \"<b>%{hovertext}</b><br><br>iso_code=%{location}<br>total_deaths=%{z}<extra></extra>\", \"hovertext\": [\"Afghanistan\", \"Albania\", \"Algeria\", \"Andorra\", \"Angola\", \"Antigua and Barbuda\", \"Argentina\", \"Armenia\", \"Australia\", \"Austria\", \"Azerbaijan\", \"Bahamas\", \"Bahrain\", \"Bangladesh\", \"Barbados\", \"Belarus\", \"Belgium\", \"Belize\", \"Benin\", \"Bhutan\", \"Bolivia\", \"Bosnia and Herzegovina\", \"Botswana\", \"Brazil\", \"Brunei\", \"Bulgaria\", \"Burkina Faso\", \"Burundi\", \"Cambodia\", \"Cameroon\", \"Canada\", \"Cape Verde\", \"Central African Republic\", \"Chad\", \"Chile\", \"China\", \"Colombia\", \"Comoros\", \"Congo\", \"Costa Rica\", \"Cote d'Ivoire\", \"Croatia\", \"Cuba\", \"Cyprus\", \"Czechia\", \"Democratic Republic of Congo\", \"Denmark\", \"Djibouti\", \"Dominica\", \"Dominican Republic\", \"Ecuador\", \"Egypt\", \"El Salvador\", \"Equatorial Guinea\", \"Eritrea\", \"Estonia\", \"Eswatini\", \"Ethiopia\", \"Fiji\", \"Finland\", \"France\", \"Gabon\", \"Gambia\", \"Georgia\", \"Germany\", \"Ghana\", \"Greece\", \"Grenada\", \"Guatemala\", \"Guinea\", \"Guinea-Bissau\", \"Guyana\", \"Haiti\", \"Honduras\", \"Hungary\", \"Iceland\", \"India\", \"Indonesia\", \"Iran\", \"Iraq\", \"Ireland\", \"Israel\", \"Italy\", \"Jamaica\", \"Japan\", \"Jordan\", \"Kazakhstan\", \"Kenya\", \"Kosovo\", \"Kuwait\", \"Kyrgyzstan\", \"Laos\", \"Latvia\", \"Lebanon\", \"Lesotho\", \"Liberia\", \"Libya\", \"Liechtenstein\", \"Lithuania\", \"Luxembourg\", \"Madagascar\", \"Malawi\", \"Malaysia\", \"Maldives\", \"Mali\", \"Malta\", \"Marshall Islands\", \"Mauritania\", \"Mauritius\", \"Mexico\", \"Moldova\", \"Monaco\", \"Mongolia\", \"Montenegro\", \"Morocco\", \"Mozambique\", \"Myanmar\", \"Namibia\", \"Nepal\", \"Netherlands\", \"New Zealand\", \"Nicaragua\", \"Niger\", \"Nigeria\", \"North Macedonia\", \"Norway\", \"Oman\", \"Pakistan\", \"Palestine\", \"Panama\", \"Papua New Guinea\", \"Paraguay\", \"Peru\", \"Philippines\", \"Poland\", \"Portugal\", \"Qatar\", \"Romania\"], \"locations\": [\"AFG\", \"ALB\", \"DZA\", \"AND\", \"AGO\", \"ATG\", \"ARG\", \"ARM\", \"AUS\", \"AUT\", \"AZE\", \"BHS\", \"BHR\", \"BGD\", \"BRB\", \"BLR\", \"BEL\", \"BLZ\", \"BEN\", \"BTN\", \"BOL\", \"BIH\", \"BWA\", \"BRA\", \"BRN\", \"BGR\", \"BFA\", \"BDI\", \"KHM\", \"CMR\", \"CAN\", \"CPV\", \"CAF\", \"TCD\", \"CHL\", \"CHN\", \"COL\", \"COM\", \"COG\", \"CRI\", \"CIV\", \"HRV\", \"CUB\", \"CYP\", \"CZE\", \"COD\", \"DNK\", \"DJI\", \"DMA\", \"DOM\", \"ECU\", \"EGY\", \"SLV\", \"GNQ\", \"ERI\", \"EST\", \"SWZ\", \"ETH\", \"FJI\", \"FIN\", \"FRA\", \"GAB\", \"GMB\", \"GEO\", \"DEU\", \"GHA\", \"GRC\", \"GRD\", \"GTM\", \"GIN\", \"GNB\", \"GUY\", \"HTI\", \"HND\", \"HUN\", \"ISL\", \"IND\", \"IDN\", \"IRN\", \"IRQ\", \"IRL\", \"ISR\", \"ITA\", \"JAM\", \"JPN\", \"JOR\", \"KAZ\", \"KEN\", \"OWID_KOS\", \"KWT\", \"KGZ\", \"LAO\", \"LVA\", \"LBN\", \"LSO\", \"LBR\", \"LBY\", \"LIE\", \"LTU\", \"LUX\", \"MDG\", \"MWI\", \"MYS\", \"MDV\", \"MLI\", \"MLT\", \"MHL\", \"MRT\", \"MUS\", \"MEX\", \"MDA\", \"MCO\", \"MNG\", \"MNE\", \"MAR\", \"MOZ\", \"MMR\", \"NAM\", \"NPL\", \"NLD\", \"NZL\", \"NIC\", \"NER\", \"NGA\", \"MKD\", \"NOR\", \"OMN\", \"PAK\", \"PSE\", \"PAN\", \"PNG\", \"PRY\", \"PER\", \"PHL\", \"POL\", \"PRT\", \"QAT\", \"ROU\"], \"name\": \"\", \"type\": \"choropleth\", \"z\": [1620.0, 623.0, 2154.0, 76.0, 322.0, 4.0, 35436.0, 1763.0, 907.0, 1829.0, 967.0, 156.0, 334.0, 6194.0, 7.0, 1046.0, 14421.0, 90.0, 43.0, null, 8849.0, 1889.0, 27.0, 165798.0, 3.0, 2130.0, 68.0, 1.0, null, 433.0, 11001.0, 103.0, 63.0, 101.0, 14819.0, 4742.0, 34031.0, 7.0, 92.0, 1546.0, 128.0, 1049.0, 131.0, 39.0, 6208.0, 319.0, 760.0, 61.0, null, 2285.0, 13008.0, 6453.0, 1044.0, 85.0, null, 81.0, 119.0, 1569.0, 2.0, 369.0, 44613.0, 58.0, 122.0, 703.0, 12573.0, 322.0, 1106.0, null, 3932.0, 75.0, 43.0, 139.0, 232.0, 2823.0, 3097.0, 25.0, 130070.0, 15211.0, 41493.0, 11670.0, 1979.0, 2744.0, 45229.0, 231.0, 1874.0, 1772.0, 2317.0, 1269.0, 822.0, 838.0, 1203.0, null, 123.0, 817.0, 44.0, 82.0, 1017.0, 5.0, 277.0, 219.0, 250.0, 185.0, 309.0, 43.0, 141.0, 97.0, null, 165.0, 10.0, 98542.0, 2019.0, 2.0, null, 391.0, 4779.0, 113.0, 1577.0, 138.0, 1221.0, 8559.0, 25.0, 158.0, 70.0, 1163.0, 1305.0, 294.0, 1338.0, 7160.0, 565.0, 2873.0, 7.0, 1587.0, 35177.0, 7832.0, 10348.0, 3381.0, 234.0, 8926.0]}],                        {\"coloraxis\": {\"colorbar\": {\"title\": {\"text\": \"total_deaths\"}}, \"colorscale\": [[0.0, \"rgb(255,245,240)\"], [0.125, \"rgb(254,224,210)\"], [0.25, \"rgb(252,187,161)\"], [0.375, \"rgb(252,146,114)\"], [0.5, \"rgb(251,106,74)\"], [0.625, \"rgb(239,59,44)\"], [0.75, \"rgb(203,24,29)\"], [0.875, \"rgb(165,15,21)\"], [1.0, \"rgb(103,0,13)\"]]}, \"geo\": {\"center\": {}, \"domain\": {\"x\": [0.0, 1.0], \"y\": [0.0, 1.0]}}, \"legend\": {\"tracegroupgap\": 0}, \"template\": {\"data\": {\"bar\": [{\"error_x\": {\"color\": \"#2a3f5f\"}, \"error_y\": {\"color\": \"#2a3f5f\"}, \"marker\": {\"line\": {\"color\": \"#E5ECF6\", \"width\": 0.5}}, \"type\": \"bar\"}], \"barpolar\": [{\"marker\": {\"line\": {\"color\": \"#E5ECF6\", \"width\": 0.5}}, \"type\": \"barpolar\"}], \"carpet\": [{\"aaxis\": {\"endlinecolor\": \"#2a3f5f\", \"gridcolor\": \"white\", \"linecolor\": \"white\", \"minorgridcolor\": \"white\", \"startlinecolor\": \"#2a3f5f\"}, \"baxis\": {\"endlinecolor\": \"#2a3f5f\", \"gridcolor\": \"white\", \"linecolor\": \"white\", \"minorgridcolor\": \"white\", \"startlinecolor\": \"#2a3f5f\"}, \"type\": \"carpet\"}], \"choropleth\": [{\"colorbar\": {\"outlinewidth\": 0, \"ticks\": \"\"}, \"type\": \"choropleth\"}], \"contour\": [{\"colorbar\": {\"outlinewidth\": 0, \"ticks\": \"\"}, \"colorscale\": [[0.0, \"#0d0887\"], [0.1111111111111111, \"#46039f\"], [0.2222222222222222, \"#7201a8\"], [0.3333333333333333, \"#9c179e\"], [0.4444444444444444, \"#bd3786\"], [0.5555555555555556, \"#d8576b\"], [0.6666666666666666, \"#ed7953\"], [0.7777777777777778, \"#fb9f3a\"], [0.8888888888888888, \"#fdca26\"], [1.0, \"#f0f921\"]], \"type\": \"contour\"}], \"contourcarpet\": [{\"colorbar\": {\"outlinewidth\": 0, \"ticks\": \"\"}, \"type\": \"contourcarpet\"}], \"heatmap\": [{\"colorbar\": {\"outlinewidth\": 0, \"ticks\": \"\"}, \"colorscale\": [[0.0, \"#0d0887\"], [0.1111111111111111, \"#46039f\"], [0.2222222222222222, \"#7201a8\"], [0.3333333333333333, \"#9c179e\"], [0.4444444444444444, \"#bd3786\"], [0.5555555555555556, \"#d8576b\"], [0.6666666666666666, \"#ed7953\"], [0.7777777777777778, \"#fb9f3a\"], [0.8888888888888888, \"#fdca26\"], [1.0, \"#f0f921\"]], \"type\": \"heatmap\"}], \"heatmapgl\": [{\"colorbar\": {\"outlinewidth\": 0, \"ticks\": \"\"}, \"colorscale\": [[0.0, \"#0d0887\"], [0.1111111111111111, \"#46039f\"], [0.2222222222222222, \"#7201a8\"], [0.3333333333333333, \"#9c179e\"], [0.4444444444444444, \"#bd3786\"], [0.5555555555555556, \"#d8576b\"], [0.6666666666666666, \"#ed7953\"], [0.7777777777777778, \"#fb9f3a\"], [0.8888888888888888, \"#fdca26\"], [1.0, \"#f0f921\"]], \"type\": \"heatmapgl\"}], \"histogram\": [{\"marker\": {\"colorbar\": {\"outlinewidth\": 0, \"ticks\": \"\"}}, \"type\": \"histogram\"}], \"histogram2d\": [{\"colorbar\": {\"outlinewidth\": 0, \"ticks\": \"\"}, \"colorscale\": [[0.0, \"#0d0887\"], [0.1111111111111111, \"#46039f\"], [0.2222222222222222, \"#7201a8\"], [0.3333333333333333, \"#9c179e\"], [0.4444444444444444, \"#bd3786\"], [0.5555555555555556, \"#d8576b\"], [0.6666666666666666, \"#ed7953\"], [0.7777777777777778, \"#fb9f3a\"], [0.8888888888888888, \"#fdca26\"], [1.0, \"#f0f921\"]], \"type\": \"histogram2d\"}], \"histogram2dcontour\": [{\"colorbar\": {\"outlinewidth\": 0, \"ticks\": \"\"}, \"colorscale\": [[0.0, \"#0d0887\"], [0.1111111111111111, \"#46039f\"], [0.2222222222222222, \"#7201a8\"], [0.3333333333333333, \"#9c179e\"], [0.4444444444444444, \"#bd3786\"], [0.5555555555555556, \"#d8576b\"], [0.6666666666666666, \"#ed7953\"], [0.7777777777777778, \"#fb9f3a\"], [0.8888888888888888, \"#fdca26\"], [1.0, \"#f0f921\"]], \"type\": \"histogram2dcontour\"}], \"mesh3d\": [{\"colorbar\": {\"outlinewidth\": 0, \"ticks\": \"\"}, \"type\": \"mesh3d\"}], \"parcoords\": [{\"line\": {\"colorbar\": {\"outlinewidth\": 0, \"ticks\": \"\"}}, \"type\": \"parcoords\"}], \"pie\": [{\"automargin\": true, \"type\": \"pie\"}], \"scatter\": [{\"marker\": {\"colorbar\": {\"outlinewidth\": 0, \"ticks\": \"\"}}, \"type\": \"scatter\"}], \"scatter3d\": [{\"line\": {\"colorbar\": {\"outlinewidth\": 0, \"ticks\": \"\"}}, \"marker\": {\"colorbar\": {\"outlinewidth\": 0, \"ticks\": \"\"}}, \"type\": \"scatter3d\"}], \"scattercarpet\": [{\"marker\": {\"colorbar\": {\"outlinewidth\": 0, \"ticks\": \"\"}}, \"type\": \"scattercarpet\"}], \"scattergeo\": [{\"marker\": {\"colorbar\": {\"outlinewidth\": 0, \"ticks\": \"\"}}, \"type\": \"scattergeo\"}], \"scattergl\": [{\"marker\": {\"colorbar\": {\"outlinewidth\": 0, \"ticks\": \"\"}}, \"type\": \"scattergl\"}], \"scattermapbox\": [{\"marker\": {\"colorbar\": {\"outlinewidth\": 0, \"ticks\": \"\"}}, \"type\": \"scattermapbox\"}], \"scatterpolar\": [{\"marker\": {\"colorbar\": {\"outlinewidth\": 0, \"ticks\": \"\"}}, \"type\": \"scatterpolar\"}], \"scatterpolargl\": [{\"marker\": {\"colorbar\": {\"outlinewidth\": 0, \"ticks\": \"\"}}, \"type\": \"scatterpolargl\"}], \"scatterternary\": [{\"marker\": {\"colorbar\": {\"outlinewidth\": 0, \"ticks\": \"\"}}, \"type\": \"scatterternary\"}], \"surface\": [{\"colorbar\": {\"outlinewidth\": 0, \"ticks\": \"\"}, \"colorscale\": [[0.0, \"#0d0887\"], [0.1111111111111111, \"#46039f\"], [0.2222222222222222, \"#7201a8\"], [0.3333333333333333, \"#9c179e\"], [0.4444444444444444, \"#bd3786\"], [0.5555555555555556, \"#d8576b\"], [0.6666666666666666, \"#ed7953\"], [0.7777777777777778, \"#fb9f3a\"], [0.8888888888888888, \"#fdca26\"], [1.0, \"#f0f921\"]], \"type\": \"surface\"}], \"table\": [{\"cells\": {\"fill\": {\"color\": \"#EBF0F8\"}, \"line\": {\"color\": \"white\"}}, \"header\": {\"fill\": {\"color\": \"#C8D4E3\"}, \"line\": {\"color\": \"white\"}}, \"type\": \"table\"}]}, \"layout\": {\"annotationdefaults\": {\"arrowcolor\": \"#2a3f5f\", \"arrowhead\": 0, \"arrowwidth\": 1}, \"autotypenumbers\": \"strict\", \"coloraxis\": {\"colorbar\": {\"outlinewidth\": 0, \"ticks\": \"\"}}, \"colorscale\": {\"diverging\": [[0, \"#8e0152\"], [0.1, \"#c51b7d\"], [0.2, \"#de77ae\"], [0.3, \"#f1b6da\"], [0.4, \"#fde0ef\"], [0.5, \"#f7f7f7\"], [0.6, \"#e6f5d0\"], [0.7, \"#b8e186\"], [0.8, \"#7fbc41\"], [0.9, \"#4d9221\"], [1, \"#276419\"]], \"sequential\": [[0.0, \"#0d0887\"], [0.1111111111111111, \"#46039f\"], [0.2222222222222222, \"#7201a8\"], [0.3333333333333333, \"#9c179e\"], [0.4444444444444444, \"#bd3786\"], [0.5555555555555556, \"#d8576b\"], [0.6666666666666666, \"#ed7953\"], [0.7777777777777778, \"#fb9f3a\"], [0.8888888888888888, \"#fdca26\"], [1.0, \"#f0f921\"]], \"sequentialminus\": [[0.0, \"#0d0887\"], [0.1111111111111111, \"#46039f\"], [0.2222222222222222, \"#7201a8\"], [0.3333333333333333, \"#9c179e\"], [0.4444444444444444, \"#bd3786\"], [0.5555555555555556, \"#d8576b\"], [0.6666666666666666, \"#ed7953\"], [0.7777777777777778, \"#fb9f3a\"], [0.8888888888888888, \"#fdca26\"], [1.0, \"#f0f921\"]]}, \"colorway\": [\"#636efa\", \"#EF553B\", \"#00cc96\", \"#ab63fa\", \"#FFA15A\", \"#19d3f3\", \"#FF6692\", \"#B6E880\", \"#FF97FF\", \"#FECB52\"], \"font\": {\"color\": \"#2a3f5f\"}, \"geo\": {\"bgcolor\": \"white\", \"lakecolor\": \"white\", \"landcolor\": \"#E5ECF6\", \"showlakes\": true, \"showland\": true, \"subunitcolor\": \"white\"}, \"hoverlabel\": {\"align\": \"left\"}, \"hovermode\": \"closest\", \"mapbox\": {\"style\": \"light\"}, \"paper_bgcolor\": \"white\", \"plot_bgcolor\": \"#E5ECF6\", \"polar\": {\"angularaxis\": {\"gridcolor\": \"white\", \"linecolor\": \"white\", \"ticks\": \"\"}, \"bgcolor\": \"#E5ECF6\", \"radialaxis\": {\"gridcolor\": \"white\", \"linecolor\": \"white\", \"ticks\": \"\"}}, \"scene\": {\"xaxis\": {\"backgroundcolor\": \"#E5ECF6\", \"gridcolor\": \"white\", \"gridwidth\": 2, \"linecolor\": \"white\", \"showbackground\": true, \"ticks\": \"\", \"zerolinecolor\": \"white\"}, \"yaxis\": {\"backgroundcolor\": \"#E5ECF6\", \"gridcolor\": \"white\", \"gridwidth\": 2, \"linecolor\": \"white\", \"showbackground\": true, \"ticks\": \"\", \"zerolinecolor\": \"white\"}, \"zaxis\": {\"backgroundcolor\": \"#E5ECF6\", \"gridcolor\": \"white\", \"gridwidth\": 2, \"linecolor\": \"white\", \"showbackground\": true, \"ticks\": \"\", \"zerolinecolor\": \"white\"}}, \"shapedefaults\": {\"line\": {\"color\": \"#2a3f5f\"}}, \"ternary\": {\"aaxis\": {\"gridcolor\": \"white\", \"linecolor\": \"white\", \"ticks\": \"\"}, \"baxis\": {\"gridcolor\": \"white\", \"linecolor\": \"white\", \"ticks\": \"\"}, \"bgcolor\": \"#E5ECF6\", \"caxis\": {\"gridcolor\": \"white\", \"linecolor\": \"white\", \"ticks\": \"\"}}, \"title\": {\"x\": 0.05}, \"xaxis\": {\"automargin\": true, \"gridcolor\": \"white\", \"linecolor\": \"white\", \"ticks\": \"\", \"title\": {\"standoff\": 15}, \"zerolinecolor\": \"white\", \"zerolinewidth\": 2}, \"yaxis\": {\"automargin\": true, \"gridcolor\": \"white\", \"linecolor\": \"white\", \"ticks\": \"\", \"title\": {\"standoff\": 15}, \"zerolinecolor\": \"white\", \"zerolinewidth\": 2}}}, \"title\": {\"text\": \"Total Covid19 deaths in World\"}},                        {\"responsive\": true}                    ).then(function(){\n",
       "                            \n",
       "var gd = document.getElementById('dcc464de-d862-4836-88f5-7edb4949a4e5');\n",
       "var x = new MutationObserver(function (mutations, observer) {{\n",
       "        var display = window.getComputedStyle(gd).display;\n",
       "        if (!display || display === 'none') {{\n",
       "            console.log([gd, 'removed!']);\n",
       "            Plotly.purge(gd);\n",
       "            observer.disconnect();\n",
       "        }}\n",
       "}});\n",
       "\n",
       "// Listen for the removal of the full notebook cells\n",
       "var notebookContainer = gd.closest('#notebook-container');\n",
       "if (notebookContainer) {{\n",
       "    x.observe(notebookContainer, {childList: true});\n",
       "}}\n",
       "\n",
       "// Listen for the clearing of the current output cell\n",
       "var outputEl = gd.closest('.output');\n",
       "if (outputEl) {{\n",
       "    x.observe(outputEl, {childList: true});\n",
       "}}\n",
       "\n",
       "                        })                };                });            </script>        </div>"
      ]
     },
     "metadata": {},
     "output_type": "display_data"
    }
   ],
   "source": [
    "fig = p.choropleth(data, locations=\"iso_code\", color=\"total_deaths\", hover_name='location', color_continuous_scale=\"reds\",\n",
    "                   title='Total Covid19 deaths in World')\n",
    "fig.show()"
   ]
  },
  {
   "cell_type": "markdown",
   "metadata": {},
   "source": [
    "#### Top 10 Countries New Cases Wise"
   ]
  },
  {
   "cell_type": "code",
   "execution_count": 26,
   "metadata": {},
   "outputs": [
    {
     "data": {
      "text/html": [
       "<div>\n",
       "<style scoped>\n",
       "    .dataframe tbody tr th:only-of-type {\n",
       "        vertical-align: middle;\n",
       "    }\n",
       "\n",
       "    .dataframe tbody tr th {\n",
       "        vertical-align: top;\n",
       "    }\n",
       "\n",
       "    .dataframe thead th {\n",
       "        text-align: right;\n",
       "    }\n",
       "</style>\n",
       "<table border=\"1\" class=\"dataframe\">\n",
       "  <thead>\n",
       "    <tr style=\"text-align: right;\">\n",
       "      <th></th>\n",
       "      <th>iso_code</th>\n",
       "      <th>continent</th>\n",
       "      <th>location</th>\n",
       "      <th>date</th>\n",
       "      <th>total_cases</th>\n",
       "      <th>new_cases</th>\n",
       "      <th>new_cases_smoothed</th>\n",
       "      <th>total_deaths</th>\n",
       "      <th>new_deaths</th>\n",
       "      <th>new_deaths_smoothed</th>\n",
       "      <th>...</th>\n",
       "      <th>gdp_per_capita</th>\n",
       "      <th>extreme_poverty</th>\n",
       "      <th>cardiovasc_death_rate</th>\n",
       "      <th>diabetes_prevalence</th>\n",
       "      <th>female_smokers</th>\n",
       "      <th>male_smokers</th>\n",
       "      <th>handwashing_facilities</th>\n",
       "      <th>hospital_beds_per_thousand</th>\n",
       "      <th>life_expectancy</th>\n",
       "      <th>human_development_index</th>\n",
       "    </tr>\n",
       "  </thead>\n",
       "  <tbody>\n",
       "    <tr>\n",
       "      <th>26713</th>\n",
       "      <td>ITA</td>\n",
       "      <td>Europe</td>\n",
       "      <td>Italy</td>\n",
       "      <td>2020-11-15</td>\n",
       "      <td>1178529.0</td>\n",
       "      <td>33977.0</td>\n",
       "      <td>34775.000</td>\n",
       "      <td>45229.0</td>\n",
       "      <td>546.0</td>\n",
       "      <td>547.857</td>\n",
       "      <td>...</td>\n",
       "      <td>35220.084</td>\n",
       "      <td>2.0</td>\n",
       "      <td>113.151</td>\n",
       "      <td>4.78</td>\n",
       "      <td>19.8</td>\n",
       "      <td>27.8</td>\n",
       "      <td>NaN</td>\n",
       "      <td>3.18</td>\n",
       "      <td>83.51</td>\n",
       "      <td>0.880</td>\n",
       "    </tr>\n",
       "    <tr>\n",
       "      <th>24381</th>\n",
       "      <td>IND</td>\n",
       "      <td>Asia</td>\n",
       "      <td>India</td>\n",
       "      <td>2020-11-15</td>\n",
       "      <td>8845127.0</td>\n",
       "      <td>30548.0</td>\n",
       "      <td>41638.571</td>\n",
       "      <td>130070.0</td>\n",
       "      <td>435.0</td>\n",
       "      <td>494.143</td>\n",
       "      <td>...</td>\n",
       "      <td>6426.674</td>\n",
       "      <td>21.2</td>\n",
       "      <td>282.280</td>\n",
       "      <td>10.39</td>\n",
       "      <td>1.9</td>\n",
       "      <td>20.6</td>\n",
       "      <td>59.55</td>\n",
       "      <td>0.53</td>\n",
       "      <td>69.66</td>\n",
       "      <td>0.640</td>\n",
       "    </tr>\n",
       "    <tr>\n",
       "      <th>19265</th>\n",
       "      <td>FRA</td>\n",
       "      <td>Europe</td>\n",
       "      <td>France</td>\n",
       "      <td>2020-11-15</td>\n",
       "      <td>2033419.0</td>\n",
       "      <td>27192.0</td>\n",
       "      <td>28040.714</td>\n",
       "      <td>44613.0</td>\n",
       "      <td>303.0</td>\n",
       "      <td>589.000</td>\n",
       "      <td>...</td>\n",
       "      <td>38605.671</td>\n",
       "      <td>NaN</td>\n",
       "      <td>86.060</td>\n",
       "      <td>4.77</td>\n",
       "      <td>30.1</td>\n",
       "      <td>35.6</td>\n",
       "      <td>NaN</td>\n",
       "      <td>5.98</td>\n",
       "      <td>82.66</td>\n",
       "      <td>0.901</td>\n",
       "    </tr>\n",
       "    <tr>\n",
       "      <th>42860</th>\n",
       "      <td>POL</td>\n",
       "      <td>Europe</td>\n",
       "      <td>Poland</td>\n",
       "      <td>2020-11-15</td>\n",
       "      <td>712972.0</td>\n",
       "      <td>21854.0</td>\n",
       "      <td>23792.429</td>\n",
       "      <td>10348.0</td>\n",
       "      <td>303.0</td>\n",
       "      <td>353.714</td>\n",
       "      <td>...</td>\n",
       "      <td>27216.445</td>\n",
       "      <td>NaN</td>\n",
       "      <td>227.331</td>\n",
       "      <td>5.91</td>\n",
       "      <td>23.3</td>\n",
       "      <td>33.1</td>\n",
       "      <td>NaN</td>\n",
       "      <td>6.62</td>\n",
       "      <td>78.73</td>\n",
       "      <td>0.865</td>\n",
       "    </tr>\n",
       "    <tr>\n",
       "      <th>7565</th>\n",
       "      <td>BRA</td>\n",
       "      <td>South America</td>\n",
       "      <td>Brazil</td>\n",
       "      <td>2020-11-15</td>\n",
       "      <td>5863093.0</td>\n",
       "      <td>14134.0</td>\n",
       "      <td>28425.429</td>\n",
       "      <td>165798.0</td>\n",
       "      <td>140.0</td>\n",
       "      <td>485.857</td>\n",
       "      <td>...</td>\n",
       "      <td>14103.452</td>\n",
       "      <td>3.4</td>\n",
       "      <td>177.961</td>\n",
       "      <td>8.11</td>\n",
       "      <td>10.1</td>\n",
       "      <td>17.9</td>\n",
       "      <td>NaN</td>\n",
       "      <td>2.20</td>\n",
       "      <td>75.88</td>\n",
       "      <td>0.759</td>\n",
       "    </tr>\n",
       "  </tbody>\n",
       "</table>\n",
       "<p>5 rows × 55 columns</p>\n",
       "</div>"
      ],
      "text/plain": [
       "      iso_code      continent location        date  total_cases  new_cases  \\\n",
       "26713      ITA         Europe    Italy  2020-11-15    1178529.0    33977.0   \n",
       "24381      IND           Asia    India  2020-11-15    8845127.0    30548.0   \n",
       "19265      FRA         Europe   France  2020-11-15    2033419.0    27192.0   \n",
       "42860      POL         Europe   Poland  2020-11-15     712972.0    21854.0   \n",
       "7565       BRA  South America   Brazil  2020-11-15    5863093.0    14134.0   \n",
       "\n",
       "       new_cases_smoothed  total_deaths  new_deaths  new_deaths_smoothed  ...  \\\n",
       "26713           34775.000       45229.0       546.0              547.857  ...   \n",
       "24381           41638.571      130070.0       435.0              494.143  ...   \n",
       "19265           28040.714       44613.0       303.0              589.000  ...   \n",
       "42860           23792.429       10348.0       303.0              353.714  ...   \n",
       "7565            28425.429      165798.0       140.0              485.857  ...   \n",
       "\n",
       "       gdp_per_capita  extreme_poverty  cardiovasc_death_rate  \\\n",
       "26713       35220.084              2.0                113.151   \n",
       "24381        6426.674             21.2                282.280   \n",
       "19265       38605.671              NaN                 86.060   \n",
       "42860       27216.445              NaN                227.331   \n",
       "7565        14103.452              3.4                177.961   \n",
       "\n",
       "       diabetes_prevalence  female_smokers  male_smokers  \\\n",
       "26713                 4.78            19.8          27.8   \n",
       "24381                10.39             1.9          20.6   \n",
       "19265                 4.77            30.1          35.6   \n",
       "42860                 5.91            23.3          33.1   \n",
       "7565                  8.11            10.1          17.9   \n",
       "\n",
       "       handwashing_facilities  hospital_beds_per_thousand  life_expectancy  \\\n",
       "26713                     NaN                        3.18            83.51   \n",
       "24381                   59.55                        0.53            69.66   \n",
       "19265                     NaN                        5.98            82.66   \n",
       "42860                     NaN                        6.62            78.73   \n",
       "7565                      NaN                        2.20            75.88   \n",
       "\n",
       "       human_development_index  \n",
       "26713                    0.880  \n",
       "24381                    0.640  \n",
       "19265                    0.901  \n",
       "42860                    0.865  \n",
       "7565                     0.759  \n",
       "\n",
       "[5 rows x 55 columns]"
      ]
     },
     "execution_count": 26,
     "metadata": {},
     "output_type": "execute_result"
    }
   ],
   "source": [
    "top_10_countries_by_new_cases = data.sort_values(\"new_cases\",ascending= False)\n",
    "top_10_countries_by_new_cases.head()"
   ]
  },
  {
   "cell_type": "markdown",
   "metadata": {},
   "source": [
    "#### Top 10 Countries Total Death Wise"
   ]
  },
  {
   "cell_type": "code",
   "execution_count": 27,
   "metadata": {},
   "outputs": [
    {
     "data": {
      "text/html": [
       "<div>\n",
       "<style scoped>\n",
       "    .dataframe tbody tr th:only-of-type {\n",
       "        vertical-align: middle;\n",
       "    }\n",
       "\n",
       "    .dataframe tbody tr th {\n",
       "        vertical-align: top;\n",
       "    }\n",
       "\n",
       "    .dataframe thead th {\n",
       "        text-align: right;\n",
       "    }\n",
       "</style>\n",
       "<table border=\"1\" class=\"dataframe\">\n",
       "  <thead>\n",
       "    <tr style=\"text-align: right;\">\n",
       "      <th></th>\n",
       "      <th>iso_code</th>\n",
       "      <th>continent</th>\n",
       "      <th>location</th>\n",
       "      <th>date</th>\n",
       "      <th>total_cases</th>\n",
       "      <th>new_cases</th>\n",
       "      <th>new_cases_smoothed</th>\n",
       "      <th>total_deaths</th>\n",
       "      <th>new_deaths</th>\n",
       "      <th>new_deaths_smoothed</th>\n",
       "      <th>...</th>\n",
       "      <th>gdp_per_capita</th>\n",
       "      <th>extreme_poverty</th>\n",
       "      <th>cardiovasc_death_rate</th>\n",
       "      <th>diabetes_prevalence</th>\n",
       "      <th>female_smokers</th>\n",
       "      <th>male_smokers</th>\n",
       "      <th>handwashing_facilities</th>\n",
       "      <th>hospital_beds_per_thousand</th>\n",
       "      <th>life_expectancy</th>\n",
       "      <th>human_development_index</th>\n",
       "    </tr>\n",
       "  </thead>\n",
       "  <tbody>\n",
       "    <tr>\n",
       "      <th>7565</th>\n",
       "      <td>BRA</td>\n",
       "      <td>South America</td>\n",
       "      <td>Brazil</td>\n",
       "      <td>2020-11-15</td>\n",
       "      <td>5863093.0</td>\n",
       "      <td>14134.0</td>\n",
       "      <td>28425.429</td>\n",
       "      <td>165798.0</td>\n",
       "      <td>140.0</td>\n",
       "      <td>485.857</td>\n",
       "      <td>...</td>\n",
       "      <td>14103.452</td>\n",
       "      <td>3.4</td>\n",
       "      <td>177.961</td>\n",
       "      <td>8.11</td>\n",
       "      <td>10.1</td>\n",
       "      <td>17.9</td>\n",
       "      <td>NaN</td>\n",
       "      <td>2.20</td>\n",
       "      <td>75.88</td>\n",
       "      <td>0.759</td>\n",
       "    </tr>\n",
       "    <tr>\n",
       "      <th>24381</th>\n",
       "      <td>IND</td>\n",
       "      <td>Asia</td>\n",
       "      <td>India</td>\n",
       "      <td>2020-11-15</td>\n",
       "      <td>8845127.0</td>\n",
       "      <td>30548.0</td>\n",
       "      <td>41638.571</td>\n",
       "      <td>130070.0</td>\n",
       "      <td>435.0</td>\n",
       "      <td>494.143</td>\n",
       "      <td>...</td>\n",
       "      <td>6426.674</td>\n",
       "      <td>21.2</td>\n",
       "      <td>282.280</td>\n",
       "      <td>10.39</td>\n",
       "      <td>1.9</td>\n",
       "      <td>20.6</td>\n",
       "      <td>59.550</td>\n",
       "      <td>0.53</td>\n",
       "      <td>69.66</td>\n",
       "      <td>0.640</td>\n",
       "    </tr>\n",
       "    <tr>\n",
       "      <th>34962</th>\n",
       "      <td>MEX</td>\n",
       "      <td>North America</td>\n",
       "      <td>Mexico</td>\n",
       "      <td>2020-11-15</td>\n",
       "      <td>1006522.0</td>\n",
       "      <td>3269.0</td>\n",
       "      <td>5528.143</td>\n",
       "      <td>98542.0</td>\n",
       "      <td>283.0</td>\n",
       "      <td>502.143</td>\n",
       "      <td>...</td>\n",
       "      <td>17336.469</td>\n",
       "      <td>2.5</td>\n",
       "      <td>152.783</td>\n",
       "      <td>13.06</td>\n",
       "      <td>6.9</td>\n",
       "      <td>21.4</td>\n",
       "      <td>87.847</td>\n",
       "      <td>1.38</td>\n",
       "      <td>75.05</td>\n",
       "      <td>0.774</td>\n",
       "    </tr>\n",
       "    <tr>\n",
       "      <th>26713</th>\n",
       "      <td>ITA</td>\n",
       "      <td>Europe</td>\n",
       "      <td>Italy</td>\n",
       "      <td>2020-11-15</td>\n",
       "      <td>1178529.0</td>\n",
       "      <td>33977.0</td>\n",
       "      <td>34775.000</td>\n",
       "      <td>45229.0</td>\n",
       "      <td>546.0</td>\n",
       "      <td>547.857</td>\n",
       "      <td>...</td>\n",
       "      <td>35220.084</td>\n",
       "      <td>2.0</td>\n",
       "      <td>113.151</td>\n",
       "      <td>4.78</td>\n",
       "      <td>19.8</td>\n",
       "      <td>27.8</td>\n",
       "      <td>NaN</td>\n",
       "      <td>3.18</td>\n",
       "      <td>83.51</td>\n",
       "      <td>0.880</td>\n",
       "    </tr>\n",
       "    <tr>\n",
       "      <th>19265</th>\n",
       "      <td>FRA</td>\n",
       "      <td>Europe</td>\n",
       "      <td>France</td>\n",
       "      <td>2020-11-15</td>\n",
       "      <td>2033419.0</td>\n",
       "      <td>27192.0</td>\n",
       "      <td>28040.714</td>\n",
       "      <td>44613.0</td>\n",
       "      <td>303.0</td>\n",
       "      <td>589.000</td>\n",
       "      <td>...</td>\n",
       "      <td>38605.671</td>\n",
       "      <td>NaN</td>\n",
       "      <td>86.060</td>\n",
       "      <td>4.77</td>\n",
       "      <td>30.1</td>\n",
       "      <td>35.6</td>\n",
       "      <td>NaN</td>\n",
       "      <td>5.98</td>\n",
       "      <td>82.66</td>\n",
       "      <td>0.901</td>\n",
       "    </tr>\n",
       "  </tbody>\n",
       "</table>\n",
       "<p>5 rows × 55 columns</p>\n",
       "</div>"
      ],
      "text/plain": [
       "      iso_code      continent location        date  total_cases  new_cases  \\\n",
       "7565       BRA  South America   Brazil  2020-11-15    5863093.0    14134.0   \n",
       "24381      IND           Asia    India  2020-11-15    8845127.0    30548.0   \n",
       "34962      MEX  North America   Mexico  2020-11-15    1006522.0     3269.0   \n",
       "26713      ITA         Europe    Italy  2020-11-15    1178529.0    33977.0   \n",
       "19265      FRA         Europe   France  2020-11-15    2033419.0    27192.0   \n",
       "\n",
       "       new_cases_smoothed  total_deaths  new_deaths  new_deaths_smoothed  ...  \\\n",
       "7565            28425.429      165798.0       140.0              485.857  ...   \n",
       "24381           41638.571      130070.0       435.0              494.143  ...   \n",
       "34962            5528.143       98542.0       283.0              502.143  ...   \n",
       "26713           34775.000       45229.0       546.0              547.857  ...   \n",
       "19265           28040.714       44613.0       303.0              589.000  ...   \n",
       "\n",
       "       gdp_per_capita  extreme_poverty  cardiovasc_death_rate  \\\n",
       "7565        14103.452              3.4                177.961   \n",
       "24381        6426.674             21.2                282.280   \n",
       "34962       17336.469              2.5                152.783   \n",
       "26713       35220.084              2.0                113.151   \n",
       "19265       38605.671              NaN                 86.060   \n",
       "\n",
       "       diabetes_prevalence  female_smokers  male_smokers  \\\n",
       "7565                  8.11            10.1          17.9   \n",
       "24381                10.39             1.9          20.6   \n",
       "34962                13.06             6.9          21.4   \n",
       "26713                 4.78            19.8          27.8   \n",
       "19265                 4.77            30.1          35.6   \n",
       "\n",
       "       handwashing_facilities  hospital_beds_per_thousand  life_expectancy  \\\n",
       "7565                      NaN                        2.20            75.88   \n",
       "24381                  59.550                        0.53            69.66   \n",
       "34962                  87.847                        1.38            75.05   \n",
       "26713                     NaN                        3.18            83.51   \n",
       "19265                     NaN                        5.98            82.66   \n",
       "\n",
       "       human_development_index  \n",
       "7565                     0.759  \n",
       "24381                    0.640  \n",
       "34962                    0.774  \n",
       "26713                    0.880  \n",
       "19265                    0.901  \n",
       "\n",
       "[5 rows x 55 columns]"
      ]
     },
     "execution_count": 27,
     "metadata": {},
     "output_type": "execute_result"
    }
   ],
   "source": [
    "top_10_countries_by_most_deaths = data.sort_values(\"total_deaths\",ascending =False)\n",
    "top_10_countries_by_most_deaths.head()"
   ]
  },
  {
   "cell_type": "code",
   "execution_count": 28,
   "metadata": {},
   "outputs": [
    {
     "data": {
      "image/png": "[encoded data removed]",
      "text/plain": [
       "<Figure size 720x360 with 2 Axes>"
      ]
     },
     "metadata": {
      "needs_background": "light"
     },
     "output_type": "display_data"
    }
   ],
   "source": [
    "fig,axes = plt.subplots(figsize=(10,5),nrows =1, ncols = 2)\n",
    "sns.barplot(x =top_10_countries_by_new_cases[\"new_cases\"][:10], y =top_10_countries_by_new_cases[\"location\"][:10],\n",
    "           ax = axes[0], palette =\"magma\", orient = \"h\");\n",
    "axes[0].set_title(\"Top 10 Countries with new cases\")\n",
    "sns.barplot(x = top_10_countries_by_most_deaths[\"total_deaths\"][:10], y = top_10_countries_by_most_deaths[\"location\"][:10],\n",
    "           ax =axes[1], orient = \"h\")\n",
    "axes[1].set_title(\"Top 10 Countries with total deaths\")\n",
    "fig.tight_layout()"
   ]
  },
  {
   "cell_type": "markdown",
   "metadata": {},
   "source": [
    "#### From the above graph we can say that the United States has the most number of new cases and after that India and Brazil follows up.\n",
    "\n",
    "#### From the second graph we can say that again in the United States most number of deaths occured due to COVID-19 and then Brazil and India follows up."
   ]
  },
  {
   "cell_type": "markdown",
   "metadata": {},
   "source": [
    "#### Top 10 Countries with Least Deaths"
   ]
  },
  {
   "cell_type": "code",
   "execution_count": 13,
   "metadata": {},
   "outputs": [
    {
     "data": {
      "text/plain": [
       "35592              Monaco\n",
       "8784              Burundi\n",
       "6332               Bhutan\n",
       "9136             Cambodia\n",
       "15405            Dominica\n",
       "17277             Eritrea\n",
       "21474             Grenada\n",
       "29538                Laos\n",
       "33978    Marshall Islands\n",
       "35901            Mongolia\n",
       "Name: location, dtype: object"
      ]
     },
     "execution_count": 13,
     "metadata": {},
     "output_type": "execute_result"
    }
   ],
   "source": [
    "top_10_countries_by_most_deaths ['location'].tail(10)"
   ]
  },
  {
   "cell_type": "markdown",
   "metadata": {},
   "source": [
    "### Analysis of COVID Cases in Asia\n",
    "#### Creating an dataframe with data of Asian countries"
   ]
  },
  {
   "cell_type": "code",
   "execution_count": 15,
   "metadata": {},
   "outputs": [
    {
     "data": {
      "text/html": [
       "<div>\n",
       "<style scoped>\n",
       "    .dataframe tbody tr th:only-of-type {\n",
       "        vertical-align: middle;\n",
       "    }\n",
       "\n",
       "    .dataframe tbody tr th {\n",
       "        vertical-align: top;\n",
       "    }\n",
       "\n",
       "    .dataframe thead th {\n",
       "        text-align: right;\n",
       "    }\n",
       "</style>\n",
       "<table border=\"1\" class=\"dataframe\">\n",
       "  <thead>\n",
       "    <tr style=\"text-align: right;\">\n",
       "      <th></th>\n",
       "      <th>iso_code</th>\n",
       "      <th>continent</th>\n",
       "      <th>location</th>\n",
       "      <th>date</th>\n",
       "      <th>total_cases</th>\n",
       "      <th>new_cases</th>\n",
       "      <th>new_cases_smoothed</th>\n",
       "      <th>total_deaths</th>\n",
       "      <th>new_deaths</th>\n",
       "      <th>new_deaths_smoothed</th>\n",
       "      <th>...</th>\n",
       "      <th>gdp_per_capita</th>\n",
       "      <th>extreme_poverty</th>\n",
       "      <th>cardiovasc_death_rate</th>\n",
       "      <th>diabetes_prevalence</th>\n",
       "      <th>female_smokers</th>\n",
       "      <th>male_smokers</th>\n",
       "      <th>handwashing_facilities</th>\n",
       "      <th>hospital_beds_per_thousand</th>\n",
       "      <th>life_expectancy</th>\n",
       "      <th>human_development_index</th>\n",
       "    </tr>\n",
       "  </thead>\n",
       "  <tbody>\n",
       "    <tr>\n",
       "      <th>265</th>\n",
       "      <td>AFG</td>\n",
       "      <td>Asia</td>\n",
       "      <td>Afghanistan</td>\n",
       "      <td>2020-11-15</td>\n",
       "      <td>43240.0</td>\n",
       "      <td>205.0</td>\n",
       "      <td>154.429</td>\n",
       "      <td>1620.0</td>\n",
       "      <td>12.0</td>\n",
       "      <td>7.857</td>\n",
       "      <td>...</td>\n",
       "      <td>1803.987</td>\n",
       "      <td>NaN</td>\n",
       "      <td>597.029</td>\n",
       "      <td>9.59</td>\n",
       "      <td>NaN</td>\n",
       "      <td>NaN</td>\n",
       "      <td>37.746</td>\n",
       "      <td>0.5</td>\n",
       "      <td>64.83</td>\n",
       "      <td>0.498</td>\n",
       "    </tr>\n",
       "    <tr>\n",
       "      <th>2516</th>\n",
       "      <td>ARM</td>\n",
       "      <td>Asia</td>\n",
       "      <td>Armenia</td>\n",
       "      <td>2020-11-15</td>\n",
       "      <td>117337.0</td>\n",
       "      <td>1482.0</td>\n",
       "      <td>1559.000</td>\n",
       "      <td>1763.0</td>\n",
       "      <td>25.0</td>\n",
       "      <td>29.143</td>\n",
       "      <td>...</td>\n",
       "      <td>8787.580</td>\n",
       "      <td>1.8</td>\n",
       "      <td>341.010</td>\n",
       "      <td>7.11</td>\n",
       "      <td>1.5</td>\n",
       "      <td>52.1</td>\n",
       "      <td>94.043</td>\n",
       "      <td>4.2</td>\n",
       "      <td>75.09</td>\n",
       "      <td>0.755</td>\n",
       "    </tr>\n",
       "    <tr>\n",
       "      <th>3510</th>\n",
       "      <td>AZE</td>\n",
       "      <td>Asia</td>\n",
       "      <td>Azerbaijan</td>\n",
       "      <td>2020-11-15</td>\n",
       "      <td>75688.0</td>\n",
       "      <td>2259.0</td>\n",
       "      <td>1468.143</td>\n",
       "      <td>967.0</td>\n",
       "      <td>21.0</td>\n",
       "      <td>18.143</td>\n",
       "      <td>...</td>\n",
       "      <td>15847.419</td>\n",
       "      <td>NaN</td>\n",
       "      <td>559.812</td>\n",
       "      <td>7.11</td>\n",
       "      <td>0.3</td>\n",
       "      <td>42.5</td>\n",
       "      <td>83.241</td>\n",
       "      <td>4.7</td>\n",
       "      <td>73.00</td>\n",
       "      <td>0.757</td>\n",
       "    </tr>\n",
       "    <tr>\n",
       "      <th>4137</th>\n",
       "      <td>BHR</td>\n",
       "      <td>Asia</td>\n",
       "      <td>Bahrain</td>\n",
       "      <td>2020-11-15</td>\n",
       "      <td>84703.0</td>\n",
       "      <td>180.0</td>\n",
       "      <td>178.143</td>\n",
       "      <td>334.0</td>\n",
       "      <td>1.0</td>\n",
       "      <td>0.714</td>\n",
       "      <td>...</td>\n",
       "      <td>43290.705</td>\n",
       "      <td>NaN</td>\n",
       "      <td>151.689</td>\n",
       "      <td>16.52</td>\n",
       "      <td>5.8</td>\n",
       "      <td>37.6</td>\n",
       "      <td>NaN</td>\n",
       "      <td>2.0</td>\n",
       "      <td>77.29</td>\n",
       "      <td>0.846</td>\n",
       "    </tr>\n",
       "    <tr>\n",
       "      <th>4453</th>\n",
       "      <td>BGD</td>\n",
       "      <td>Asia</td>\n",
       "      <td>Bangladesh</td>\n",
       "      <td>2020-11-15</td>\n",
       "      <td>432333.0</td>\n",
       "      <td>1837.0</td>\n",
       "      <td>1727.857</td>\n",
       "      <td>6194.0</td>\n",
       "      <td>21.0</td>\n",
       "      <td>18.143</td>\n",
       "      <td>...</td>\n",
       "      <td>3523.984</td>\n",
       "      <td>14.8</td>\n",
       "      <td>298.003</td>\n",
       "      <td>8.38</td>\n",
       "      <td>1.0</td>\n",
       "      <td>44.7</td>\n",
       "      <td>34.808</td>\n",
       "      <td>0.8</td>\n",
       "      <td>72.59</td>\n",
       "      <td>0.608</td>\n",
       "    </tr>\n",
       "  </tbody>\n",
       "</table>\n",
       "<p>5 rows × 55 columns</p>\n",
       "</div>"
      ],
      "text/plain": [
       "     iso_code continent     location        date  total_cases  new_cases  \\\n",
       "265       AFG      Asia  Afghanistan  2020-11-15      43240.0      205.0   \n",
       "2516      ARM      Asia      Armenia  2020-11-15     117337.0     1482.0   \n",
       "3510      AZE      Asia   Azerbaijan  2020-11-15      75688.0     2259.0   \n",
       "4137      BHR      Asia      Bahrain  2020-11-15      84703.0      180.0   \n",
       "4453      BGD      Asia   Bangladesh  2020-11-15     432333.0     1837.0   \n",
       "\n",
       "      new_cases_smoothed  total_deaths  new_deaths  new_deaths_smoothed  ...  \\\n",
       "265              154.429        1620.0        12.0                7.857  ...   \n",
       "2516            1559.000        1763.0        25.0               29.143  ...   \n",
       "3510            1468.143         967.0        21.0               18.143  ...   \n",
       "4137             178.143         334.0         1.0                0.714  ...   \n",
       "4453            1727.857        6194.0        21.0               18.143  ...   \n",
       "\n",
       "      gdp_per_capita  extreme_poverty  cardiovasc_death_rate  \\\n",
       "265         1803.987              NaN                597.029   \n",
       "2516        8787.580              1.8                341.010   \n",
       "3510       15847.419              NaN                559.812   \n",
       "4137       43290.705              NaN                151.689   \n",
       "4453        3523.984             14.8                298.003   \n",
       "\n",
       "      diabetes_prevalence  female_smokers  male_smokers  \\\n",
       "265                  9.59             NaN           NaN   \n",
       "2516                 7.11             1.5          52.1   \n",
       "3510                 7.11             0.3          42.5   \n",
       "4137                16.52             5.8          37.6   \n",
       "4453                 8.38             1.0          44.7   \n",
       "\n",
       "      handwashing_facilities  hospital_beds_per_thousand  life_expectancy  \\\n",
       "265                   37.746                         0.5            64.83   \n",
       "2516                  94.043                         4.2            75.09   \n",
       "3510                  83.241                         4.7            73.00   \n",
       "4137                     NaN                         2.0            77.29   \n",
       "4453                  34.808                         0.8            72.59   \n",
       "\n",
       "      human_development_index  \n",
       "265                     0.498  \n",
       "2516                    0.755  \n",
       "3510                    0.757  \n",
       "4137                    0.846  \n",
       "4453                    0.608  \n",
       "\n",
       "[5 rows x 55 columns]"
      ]
     },
     "execution_count": 15,
     "metadata": {},
     "output_type": "execute_result"
    }
   ],
   "source": [
    "data_asia = data[data['continent'] =='Asia']\n",
    "data_asia = data_asia[~data_asia['location'].isin(['World','International'])]\n",
    "data_asia.head()"
   ]
  },
  {
   "cell_type": "code",
   "execution_count": 16,
   "metadata": {},
   "outputs": [
    {
     "data": {
      "text/html": [
       "<div>\n",
       "<style scoped>\n",
       "    .dataframe tbody tr th:only-of-type {\n",
       "        vertical-align: middle;\n",
       "    }\n",
       "\n",
       "    .dataframe tbody tr th {\n",
       "        vertical-align: top;\n",
       "    }\n",
       "\n",
       "    .dataframe thead th {\n",
       "        text-align: right;\n",
       "    }\n",
       "</style>\n",
       "<table border=\"1\" class=\"dataframe\">\n",
       "  <thead>\n",
       "    <tr style=\"text-align: right;\">\n",
       "      <th></th>\n",
       "      <th>date</th>\n",
       "      <th>total_cases</th>\n",
       "      <th>new_cases</th>\n",
       "      <th>total_deaths</th>\n",
       "      <th>new_tests</th>\n",
       "      <th>total_tests</th>\n",
       "      <th>location</th>\n",
       "      <th>new_deaths_per_million</th>\n",
       "      <th>total_tests_per_thousand</th>\n",
       "      <th>new_tests_per_thousand</th>\n",
       "      <th>positive_rate</th>\n",
       "      <th>new_deaths</th>\n",
       "    </tr>\n",
       "  </thead>\n",
       "  <tbody>\n",
       "    <tr>\n",
       "      <th>265</th>\n",
       "      <td>2020-11-15</td>\n",
       "      <td>43240.0</td>\n",
       "      <td>205.0</td>\n",
       "      <td>1620.0</td>\n",
       "      <td>NaN</td>\n",
       "      <td>NaN</td>\n",
       "      <td>Afghanistan</td>\n",
       "      <td>0.308</td>\n",
       "      <td>NaN</td>\n",
       "      <td>NaN</td>\n",
       "      <td>NaN</td>\n",
       "      <td>12.0</td>\n",
       "    </tr>\n",
       "    <tr>\n",
       "      <th>2516</th>\n",
       "      <td>2020-11-15</td>\n",
       "      <td>117337.0</td>\n",
       "      <td>1482.0</td>\n",
       "      <td>1763.0</td>\n",
       "      <td>NaN</td>\n",
       "      <td>NaN</td>\n",
       "      <td>Armenia</td>\n",
       "      <td>8.437</td>\n",
       "      <td>NaN</td>\n",
       "      <td>NaN</td>\n",
       "      <td>NaN</td>\n",
       "      <td>25.0</td>\n",
       "    </tr>\n",
       "    <tr>\n",
       "      <th>3510</th>\n",
       "      <td>2020-11-15</td>\n",
       "      <td>75688.0</td>\n",
       "      <td>2259.0</td>\n",
       "      <td>967.0</td>\n",
       "      <td>NaN</td>\n",
       "      <td>NaN</td>\n",
       "      <td>Azerbaijan</td>\n",
       "      <td>2.071</td>\n",
       "      <td>NaN</td>\n",
       "      <td>NaN</td>\n",
       "      <td>NaN</td>\n",
       "      <td>21.0</td>\n",
       "    </tr>\n",
       "    <tr>\n",
       "      <th>4137</th>\n",
       "      <td>2020-11-15</td>\n",
       "      <td>84703.0</td>\n",
       "      <td>180.0</td>\n",
       "      <td>334.0</td>\n",
       "      <td>8805.0</td>\n",
       "      <td>1894421.0</td>\n",
       "      <td>Bahrain</td>\n",
       "      <td>0.588</td>\n",
       "      <td>1113.329</td>\n",
       "      <td>5.175</td>\n",
       "      <td>0.018</td>\n",
       "      <td>1.0</td>\n",
       "    </tr>\n",
       "    <tr>\n",
       "      <th>4453</th>\n",
       "      <td>2020-11-15</td>\n",
       "      <td>432333.0</td>\n",
       "      <td>1837.0</td>\n",
       "      <td>6194.0</td>\n",
       "      <td>14060.0</td>\n",
       "      <td>2539021.0</td>\n",
       "      <td>Bangladesh</td>\n",
       "      <td>0.128</td>\n",
       "      <td>15.417</td>\n",
       "      <td>0.085</td>\n",
       "      <td>0.123</td>\n",
       "      <td>21.0</td>\n",
       "    </tr>\n",
       "  </tbody>\n",
       "</table>\n",
       "</div>"
      ],
      "text/plain": [
       "            date  total_cases  new_cases  total_deaths  new_tests  \\\n",
       "265   2020-11-15      43240.0      205.0        1620.0        NaN   \n",
       "2516  2020-11-15     117337.0     1482.0        1763.0        NaN   \n",
       "3510  2020-11-15      75688.0     2259.0         967.0        NaN   \n",
       "4137  2020-11-15      84703.0      180.0         334.0     8805.0   \n",
       "4453  2020-11-15     432333.0     1837.0        6194.0    14060.0   \n",
       "\n",
       "      total_tests     location  new_deaths_per_million  \\\n",
       "265           NaN  Afghanistan                   0.308   \n",
       "2516          NaN      Armenia                   8.437   \n",
       "3510          NaN   Azerbaijan                   2.071   \n",
       "4137    1894421.0      Bahrain                   0.588   \n",
       "4453    2539021.0   Bangladesh                   0.128   \n",
       "\n",
       "      total_tests_per_thousand  new_tests_per_thousand  positive_rate  \\\n",
       "265                        NaN                     NaN            NaN   \n",
       "2516                       NaN                     NaN            NaN   \n",
       "3510                       NaN                     NaN            NaN   \n",
       "4137                  1113.329                   5.175          0.018   \n",
       "4453                    15.417                   0.085          0.123   \n",
       "\n",
       "      new_deaths  \n",
       "265         12.0  \n",
       "2516        25.0  \n",
       "3510        21.0  \n",
       "4137         1.0  \n",
       "4453        21.0  "
      ]
     },
     "execution_count": 16,
     "metadata": {},
     "output_type": "execute_result"
    }
   ],
   "source": [
    "df_asia=data_asia[[\"date\",\"total_cases\",\"new_cases\",\"total_deaths\",\"new_tests\",\"total_tests\",\n",
    "                  \"location\",'new_deaths_per_million','total_tests_per_thousand','new_tests_per_thousand',\n",
    "                  'positive_rate','new_deaths']]\n",
    "df_asia.head()"
   ]
  },
  {
   "cell_type": "markdown",
   "metadata": {},
   "source": [
    "### Heatmap Showing Correlation of dataset"
   ]
  },
  {
   "cell_type": "code",
   "execution_count": 32,
   "metadata": {},
   "outputs": [
    {
     "data": {
      "text/plain": [
       "<matplotlib.axes._subplots.AxesSubplot at 0x28f39433b80>"
      ]
     },
     "execution_count": 32,
     "metadata": {},
     "output_type": "execute_result"
    },
    {
     "data": {
      "image/png": "[encoded data removed]",
      "text/plain": [
       "<Figure size 1440x720 with 2 Axes>"
      ]
     },
     "metadata": {
      "needs_background": "light"
     },
     "output_type": "display_data"
    }
   ],
   "source": [
    "plt.figure(figsize= (20,10))\n",
    "sns.heatmap(np.round(df_asia.corr(),2),annot= True,cmap='Blues')"
   ]
  },
  {
   "cell_type": "markdown",
   "metadata": {},
   "source": [
    "### Top 10 countries with most cases and least cases"
   ]
  },
  {
   "cell_type": "code",
   "execution_count": 18,
   "metadata": {},
   "outputs": [],
   "source": [
    "asia_cases = df_asia.sort_values('total_cases',ascending = False)\n",
    "asia_cases1 = df_asia.sort_values('total_cases',ascending = True)"
   ]
  },
  {
   "cell_type": "code",
   "execution_count": 35,
   "metadata": {},
   "outputs": [
    {
     "data": {
      "text/plain": [
       "Text(0.5, 1.0, 'Top 10 Countries(Asia) with most cases')"
      ]
     },
     "execution_count": 35,
     "metadata": {},
     "output_type": "execute_result"
    },
    {
     "data": {
      "image/png": "[encoded data removed]",
      "text/plain": [
       "<Figure size 1440x720 with 1 Axes>"
      ]
     },
     "metadata": {
      "needs_background": "light"
     },
     "output_type": "display_data"
    }
   ],
   "source": [
    "fig,ax = plt.subplots(figsize=(20, 10))\n",
    "sns.despine()\n",
    "sns.set_context(\"notebook\", font_scale=1.5, rc={\"lines.linewidth\": 2})\n",
    "\n",
    "sns.barplot(x=\"location\", y=\"total_cases\", data=asia_cases.head(10))\n",
    "ax.set_ylabel(ylabel = 'Cases', fontsize = 10)\n",
    "ax.set_xlabel(xlabel = 'Countries in Asia', fontsize = 10)\n",
    "ax.set_title('Top 10 Countries(Asia) with most cases')"
   ]
  },
  {
   "cell_type": "code",
   "execution_count": 20,
   "metadata": {},
   "outputs": [
    {
     "data": {
      "text/plain": [
       "Text(0.5, 1.0, 'Top 10 Countries(Asia) with least cases')"
      ]
     },
     "execution_count": 20,
     "metadata": {},
     "output_type": "execute_result"
    },
    {
     "data": {
      "image/png": "[encoded data removed]",
      "text/plain": [
       "<Figure size 1440x720 with 1 Axes>"
      ]
     },
     "metadata": {
      "needs_background": "light"
     },
     "output_type": "display_data"
    }
   ],
   "source": [
    "fig,ax = plt.subplots(figsize=(20, 10))\n",
    "sns.despine()\n",
    "sns.set_context(\"notebook\", font_scale=1.5, rc={\"lines.linewidth\": 2})\n",
    "\n",
    "sns.barplot(x=\"location\", y=\"total_cases\", data=asia_cases1.head(10))\n",
    "ax.set_ylabel(ylabel = 'Cases', fontsize = 10)\n",
    "ax.set_xlabel(xlabel = 'Countries in Asia', fontsize = 10)\n",
    "ax.set_title('Top 10 Countries(Asia) with least cases')"
   ]
  },
  {
   "cell_type": "markdown",
   "metadata": {},
   "source": [
    "#### According to the above bar graph we can conclude that in Asia India has most number of cases followed by Iran and Iraq. Laos, Timor and Brunei has least cases in Asia."
   ]
  },
  {
   "cell_type": "markdown",
   "metadata": {},
   "source": [
    "### Line Graph of Total Cases vs Total Deaths"
   ]
  },
  {
   "cell_type": "code",
   "execution_count": 21,
   "metadata": {},
   "outputs": [
    {
     "data": {
      "text/plain": [
       "Text(0.5, 1.0, 'Total Cases vs Total Deaths')"
      ]
     },
     "execution_count": 21,
     "metadata": {},
     "output_type": "execute_result"
    },
    {
     "data": {
      "image/png": "[encoded data removed]",
      "text/plain": [
       "<Figure size 720x360 with 1 Axes>"
      ]
     },
     "metadata": {
      "needs_background": "light"
     },
     "output_type": "display_data"
    }
   ],
   "source": [
    "plt.figure(figsize=(10,5))\n",
    "sns.lineplot(x='total_cases',y='total_deaths',data=df_asia)\n",
    "plt.title(\"Total Cases vs Total Deaths\")"
   ]
  },
  {
   "cell_type": "markdown",
   "metadata": {},
   "source": [
    "#### From the above graph we can say that as the total cases increases the total deaths are also increasing."
   ]
  },
  {
   "cell_type": "markdown",
   "metadata": {},
   "source": [
    "### Line Graph of Total Deaths Vs New Deaths Per Million"
   ]
  },
  {
   "cell_type": "code",
   "execution_count": 22,
   "metadata": {},
   "outputs": [
    {
     "data": {
      "text/plain": [
       "Text(0.5, 1.0, 'Total Deaths vs New Deaths per million')"
      ]
     },
     "execution_count": 22,
     "metadata": {},
     "output_type": "execute_result"
    },
    {
     "data": {
      "image/png": "[encoded data removed]",
      "text/plain": [
       "<Figure size 720x360 with 1 Axes>"
      ]
     },
     "metadata": {
      "needs_background": "light"
     },
     "output_type": "display_data"
    }
   ],
   "source": [
    "plt.figure(figsize=(10,5))\n",
    "sns.lineplot(x='total_deaths',y='new_deaths_per_million',data=df_asia)\n",
    "plt.title(\"Total Deaths vs New Deaths per million\")"
   ]
  },
  {
   "cell_type": "markdown",
   "metadata": {},
   "source": [
    "#### From the above graph we can say that, new deaths per million population had increased very steeply in the beginning. Around 4000 cases approximately number of deaths started increasing slowly and after 41000 deaths approximately it started falling."
   ]
  },
  {
   "cell_type": "markdown",
   "metadata": {},
   "source": [
    "### Line Graph of Total Tests and Positive Rate"
   ]
  },
  {
   "cell_type": "code",
   "execution_count": 23,
   "metadata": {},
   "outputs": [
    {
     "data": {
      "text/plain": [
       "Text(0.5, 1.0, 'Total Tests vs Positive Rate')"
      ]
     },
     "execution_count": 23,
     "metadata": {},
     "output_type": "execute_result"
    },
    {
     "data": {
      "image/png": "[encoded data removed]",
      "text/plain": [
       "<Figure size 720x360 with 1 Axes>"
      ]
     },
     "metadata": {
      "needs_background": "light"
     },
     "output_type": "display_data"
    }
   ],
   "source": [
    "plt.figure(figsize=(10,5))\n",
    "sns.lineplot(x='total_tests',y='positive_rate',data=df_asia)\n",
    "plt.title(\"Total Tests vs Positive Rate\")"
   ]
  },
  {
   "cell_type": "markdown",
   "metadata": {},
   "source": [
    "#### From the above line graph we can say that, in the beginning as the number of tests were being done the positive rate also had increased but it decreased after around 1 le8 and after that it has been gradualy increasing."
   ]
  },
  {
   "cell_type": "markdown",
   "metadata": {},
   "source": [
    "## Therefore, Task 8 is complete.\n",
    "\n",
    "## Thank you !!"
   ]
  }
 ],
 "metadata": {
  "colab": {
   "collapsed_sections": [],
   "name": "Linear Regression.ipynb",
   "provenance": [
    {
     "file_id": "1wzD9Aa7cc7kRwyXq8DeJ8H56mJInOMZN",
     "timestamp": 1544113281508
    }
   ],
   "version": "0.3.2"
  },
  "kernelspec": {
   "display_name": "Python 3",
   "language": "python",
   "name": "python3"
  },
  "language_info": {
   "codemirror_mode": {
    "name": "ipython",
    "version": 3
   },
   "file_extension": ".py",
   "mimetype": "text/x-python",
   "name": "python",
   "nbconvert_exporter": "python",
   "pygments_lexer": "ipython3",
   "version": "3.8.3"
  }
 },
 "nbformat": 4,
 "nbformat_minor": 1
}
